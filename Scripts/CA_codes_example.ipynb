{
 "cells": [
  {
   "cell_type": "code",
   "execution_count": null,
   "metadata": {},
   "outputs": [],
   "source": [
    "\"\"\"\n",
    "Predator and Prey Cellular Automaton\n",
    "Developed by Fraser Love on 30/09/18\n",
    "Dependencies: Pygame\n",
    "Ran on CPU - Reccomended to use on High-Range CPU\n",
    "\"\"\"\n",
    "\n",
    "import pygame, sys, random, time\n",
    "from pygame.locals import *\n",
    "\n",
    "session = True\n",
    "dimensions = (1920, 1080)\n",
    "spacing = 0                         # Sets space between each cell\n",
    "cell_size = 4                       # Sets the drawn size of each cell\n",
    "frame_rate = 30\n",
    "prey_probability = 0.3             # Probability of Prey reproducing - change for different results (choose 0.5 for spiral)\n",
    "predator_probability = 0.2          # Probability of Predator reproducing - change for differnent results (chose 0.4 for spiral)\n",
    "start_time = time.time()\n",
    "\n",
    "cells_x = int(dimensions[0] / cell_size)\n",
    "cells_y = int(dimensions[1] / cell_size)\n",
    "cells = [[0 for x in range(cells_y)] for y in range(cells_x)]\n",
    "new = [[0 for x in range(cells_y)] for y in range(cells_x)]\n",
    "\n",
    "pygame.init()\n",
    "display = pygame.display.set_mode((cells_x*(cell_size+spacing), cells_y*(cell_size+spacing)))\n",
    "display.fill(pygame.Color(\"black\"))\n",
    "clock = pygame.time.Clock()\n",
    "\n",
    "\n",
    "def create_grid():\n",
    "    #  Assigning random values to our grid of cells: 0 - dead, 1 - prey, 2 - predator\n",
    "    for x in range(cells_x):\n",
    "        for y in range(cells_y):\n",
    "            cells[x][y] = random.choice([0, 0, 1, 2])\n",
    "\n",
    "\n",
    "def growth():\n",
    "    for x in range(cells_x):\n",
    "        for y in range(cells_y):\n",
    "            if cells[x][y] == 1:\n",
    "                new[x][y] = cells[x][y]\n",
    "                for i in [-1, 0, 1]:\n",
    "                    for j in [-1, 0, 1]:\n",
    "                        if x + i < cells_x and y + j < cells_y and cells[x + i][y + j] == 0:\n",
    "                            if random.uniform(0, 1) < prey_probability:\n",
    "                                new[x + i][y + j] = 1\n",
    "            if cells[x][y] == 2:\n",
    "                new[x][y] = cells[x][y]\n",
    "                die = True\n",
    "                for i in [-1, 0, 1]:\n",
    "                    for j in [-1, 0, 1]:\n",
    "                        if x + i < cells_x and y + j < cells_y and new[x + i][y + j] == 1:\n",
    "                            die = False\n",
    "                            if random.uniform(0, 1) < predator_probability:\n",
    "                                new[x + i][y + j] = 2\n",
    "                if die == True:\n",
    "                    new[x][y] = 0\n",
    "\n",
    "def draw():\n",
    "    for i in range(cells_x):\n",
    "        for j in range(cells_y):\n",
    "            if new[i][j] == 1:\n",
    "                pygame.draw.rect(display, (255, 255, 255),\n",
    "                                 (i * (cell_size + spacing), j * (cell_size + spacing), cell_size, cell_size), 0)\n",
    "            if new[i][j] == 2:\n",
    "                pygame.draw.rect(display, (70, 70, 70),\n",
    "                                 (i * (cell_size + spacing), j * (cell_size + spacing), cell_size, cell_size), 0)\n",
    "            cells[i][j] = new[i][j]\n",
    "    pygame.display.update()\n",
    "    clock.tick(frame_rate)\n",
    "\n",
    "def run_automaton():\n",
    "    generation = 1\n",
    "    create_grid()\n",
    "    while session:\n",
    "        pygame.display.set_caption('Predator and Prey: Generation {}  Time: {}'.format(str(generation), round(time.time() - start_time,2)))\n",
    "        display.fill(\"black\")\n",
    "        for event in pygame.event.get():\n",
    "            if event.type == pygame.QUIT:\n",
    "                pygame.quit(); sys.exit();\n",
    "\n",
    "        growth()\n",
    "        draw()\n",
    "        generation += 1\n",
    "\n",
    "if __name__ == \"__main__\":\n",
    "    run_automaton()"
   ]
  },
  {
   "cell_type": "code",
   "execution_count": 215,
   "metadata": {},
   "outputs": [
    {
     "name": "stdout",
     "output_type": "stream",
     "text": [
      "pygame 2.1.2 (SDL 2.0.16, Python 3.9.10)\n",
      "Hello from the pygame community. https://www.pygame.org/contribute.html\n"
     ]
    }
   ],
   "source": [
    "import pygame, sys, random, time"
   ]
  },
  {
   "cell_type": "code",
   "execution_count": 202,
   "metadata": {},
   "outputs": [],
   "source": [
    "# session = True\n",
    "dimensions = (1920, 1080)\n",
    "spacing = 0                         # Sets space between each cell\n",
    "cell_size = 4                       # Sets the drawn size of each cell\n",
    "# frame_rate = 30\n",
    "prey_probability = 0.3             # Probability of Prey reproducing - change for different results (choose 0.5 for spiral)\n",
    "predator_probability = 0.2          # Probability of Predator reproducing - change for differnent results (chose 0.4 for spiral)\n",
    "# start_time = time.time()"
   ]
  },
  {
   "cell_type": "code",
   "execution_count": 203,
   "metadata": {},
   "outputs": [],
   "source": [
    "cells_x = int(dimensions[0] / cell_size)\n",
    "cells_y = int(dimensions[1] / cell_size)\n",
    "cells = [[0 for x in range(cells_y)] for y in range(cells_x)]\n",
    "new = [[0 for x in range(cells_y)] for y in range(cells_x)]"
   ]
  },
  {
   "cell_type": "code",
   "execution_count": 213,
   "metadata": {},
   "outputs": [],
   "source": [
    "\n",
    "def create_grid():\n",
    "    #  Assigning random values to our grid of cells: 0 - dead, 1 - prey, 2 - predator\n",
    "    for x in range(cells_x):\n",
    "        for y in range(cells_y):\n",
    "            cells[x][y] = random.choice([0, 0, 1, 2])"
   ]
  },
  {
   "cell_type": "code",
   "execution_count": 219,
   "metadata": {},
   "outputs": [
    {
     "data": {
      "text/plain": [
       "<matplotlib.collections.QuadMesh at 0x7f616cf17fa0>"
      ]
     },
     "execution_count": 219,
     "metadata": {},
     "output_type": "execute_result"
    },
    {
     "data": {
      "image/png": "[encoded data removed]",
      "text/plain": [
       "<Figure size 432x288 with 2 Axes>"
      ]
     },
     "metadata": {
      "needs_background": "light"
     },
     "output_type": "display_data"
    }
   ],
   "source": [
    "\n",
    "xr.DataArray(cells).plot()"
   ]
  },
  {
   "cell_type": "code",
   "execution_count": 222,
   "metadata": {},
   "outputs": [
    {
     "data": {
      "text/plain": [
       "2"
      ]
     },
     "execution_count": 222,
     "metadata": {},
     "output_type": "execute_result"
    }
   ],
   "source": [
    "cells[4][1]"
   ]
  },
  {
   "cell_type": "code",
   "execution_count": null,
   "metadata": {},
   "outputs": [],
   "source": []
  },
  {
   "cell_type": "code",
   "execution_count": null,
   "metadata": {},
   "outputs": [],
   "source": []
  },
  {
   "cell_type": "markdown",
   "metadata": {},
   "source": [
    "## New Cellular Automata"
   ]
  },
  {
   "cell_type": "code",
   "execution_count": 105,
   "metadata": {},
   "outputs": [],
   "source": [
    "import xarray as xr"
   ]
  },
  {
   "cell_type": "code",
   "execution_count": 173,
   "metadata": {},
   "outputs": [
    {
     "data": {
      "text/plain": [
       "20"
      ]
     },
     "execution_count": 173,
     "metadata": {},
     "output_type": "execute_result"
    }
   ],
   "source": [
    "cells = [1,0,1,0,0,0,0,1,0,1,1,1,0,0,0,1,1,1,0,0]\n",
    "len(cells)"
   ]
  },
  {
   "cell_type": "code",
   "execution_count": 174,
   "metadata": {},
   "outputs": [],
   "source": [
    "## just a simple rule for now\n",
    "def rules(a, b, c):\n",
    "    ruleset = [0,1,0,1,1,0,1,0]\n",
    "    if a == 1 and b == 1 and c == 1:\n",
    "        return ruleset[0]\n",
    "    elif a == 1 and b == 1 and c == 0:\n",
    "        return ruleset[1]\n",
    "    elif a == 1 and b == 0 and c == 1:\n",
    "        return ruleset[2]\n",
    "    elif a == 1 and b == 0 and c == 0:\n",
    "        return ruleset[3]\n",
    "    elif a == 0 and b == 1 and c == 1:\n",
    "        return ruleset[4]\n",
    "    elif a == 0 and b == 1 and c == 0:\n",
    "        return ruleset[5]\n",
    "    elif a == 0 and b == 0 and c == 1:\n",
    "        return ruleset[6]\n",
    "    elif a == 0 and b == 0 and c == 0:\n",
    "        return ruleset[7]  \n",
    "    else:\n",
    "        return 0"
   ]
  },
  {
   "cell_type": "code",
   "execution_count": null,
   "metadata": {},
   "outputs": [],
   "source": [
    "def rules(a, b, c):\n",
    "    ruleset = [0,1,1,1,1,0,1,1]\n",
    "\n",
    "    pn = str(a) + str(b) + str(c)\n",
    "    "
   ]
  },
  {
   "cell_type": "code",
   "execution_count": 185,
   "metadata": {},
   "outputs": [],
   "source": [
    "fullarray = []\n",
    "\n",
    "for j in range(20):\n",
    "\n",
    "    # create a list with the same length\n",
    "    newcells = [None] * len(cells)\n",
    "    newcells[0] = cells[0]\n",
    "    newcells[len(newcells) - 1] = cells[len(cells) -1]\n",
    "\n",
    "    # loop through the cells\n",
    "    for i in range(1, len(cells) -1 ):\n",
    "        left = cells[i-1]\n",
    "        middle = cells[i]\n",
    "        right = cells[i+1]\n",
    "\n",
    "        newstate = rules(left, middle, right)\n",
    "\n",
    "        newcells[i] = newstate\n",
    "\n",
    "    fullarray.append(newcells)\n",
    "\n",
    "    cells = newcells"
   ]
  },
  {
   "cell_type": "code",
   "execution_count": 186,
   "metadata": {},
   "outputs": [
    {
     "data": {
      "text/plain": [
       "<matplotlib.collections.QuadMesh at 0x7f61761614f0>"
      ]
     },
     "execution_count": 186,
     "metadata": {},
     "output_type": "execute_result"
    },
    {
     "data": {
      "image/png": "[encoded data removed]",
      "text/plain": [
       "<Figure size 432x288 with 2 Axes>"
      ]
     },
     "metadata": {
      "needs_background": "light"
     },
     "output_type": "display_data"
    }
   ],
   "source": [
    "xr.DataArray(fullarray).plot()"
   ]
  },
  {
   "cell_type": "code",
   "execution_count": 200,
   "metadata": {},
   "outputs": [
    {
     "data": {
      "text/plain": [
       "'011'"
      ]
     },
     "execution_count": 200,
     "metadata": {},
     "output_type": "execute_result"
    }
   ],
   "source": [
    "a = str(0) + str(1) + str(1)\n",
    "a"
   ]
  },
  {
   "cell_type": "code",
   "execution_count": 201,
   "metadata": {},
   "outputs": [
    {
     "data": {
      "text/plain": [
       "3"
      ]
     },
     "execution_count": 201,
     "metadata": {},
     "output_type": "execute_result"
    }
   ],
   "source": [
    "int(a, 2)"
   ]
  },
  {
   "cell_type": "code",
   "execution_count": null,
   "metadata": {},
   "outputs": [],
   "source": []
  }
 ],
 "metadata": {
  "interpreter": {
   "hash": "ffc293bd170d7187767a6ae29ecba801f3600ba88de56bef16e350b33d54d713"
  },
  "kernelspec": {
   "display_name": "Python 3.9.10 ('venv': venv)",
   "language": "python",
   "name": "python3"
  },
  "language_info": {
   "codemirror_mode": {
    "name": "ipython",
    "version": 3
   },
   "file_extension": ".py",
   "mimetype": "text/x-python",
   "name": "python",
   "nbconvert_exporter": "python",
   "pygments_lexer": "ipython3",
   "version": "3.9.10"
  },
  "orig_nbformat": 4
 },
 "nbformat": 4,
 "nbformat_minor": 2
}
