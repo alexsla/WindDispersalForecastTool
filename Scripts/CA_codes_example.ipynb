{
 "cells": [
  {
   "cell_type": "code",
   "execution_count": null,
   "metadata": {},
   "outputs": [],
   "source": [
    "\"\"\"\n",
    "Predator and Prey Cellular Automaton\n",
    "Developed by Fraser Love on 30/09/18\n",
    "Dependencies: Pygame\n",
    "Ran on CPU - Reccomended to use on High-Range CPU\n",
    "\"\"\"\n",
    "\n",
    "import pygame, sys, random, time\n",
    "from pygame.locals import *\n",
    "\n",
    "session = True\n",
    "dimensions = (1920, 1080)\n",
    "spacing = 0                         # Sets space between each cell\n",
    "cell_size = 4                       # Sets the drawn size of each cell\n",
    "frame_rate = 30\n",
    "prey_probability = 0.3             # Probability of Prey reproducing - change for different results (choose 0.5 for spiral)\n",
    "predator_probability = 0.2          # Probability of Predator reproducing - change for differnent results (chose 0.4 for spiral)\n",
    "start_time = time.time()\n",
    "\n",
    "cells_x = int(dimensions[0] / cell_size)\n",
    "cells_y = int(dimensions[1] / cell_size)\n",
    "cells = [[0 for x in range(cells_y)] for y in range(cells_x)]\n",
    "new = [[0 for x in range(cells_y)] for y in range(cells_x)]\n",
    "\n",
    "pygame.init()\n",
    "display = pygame.display.set_mode((cells_x*(cell_size+spacing), cells_y*(cell_size+spacing)))\n",
    "display.fill(pygame.Color(\"black\"))\n",
    "clock = pygame.time.Clock()\n",
    "\n",
    "\n",
    "def create_grid():\n",
    "    #  Assigning random values to our grid of cells: 0 - dead, 1 - prey, 2 - predator\n",
    "    for x in range(cells_x):\n",
    "        for y in range(cells_y):\n",
    "            cells[x][y] = random.choice([0, 0, 1, 2])\n",
    "\n",
    "\n",
    "def growth():\n",
    "    for x in range(cells_x):\n",
    "        for y in range(cells_y):\n",
    "            if cells[x][y] == 1:\n",
    "                new[x][y] = cells[x][y]\n",
    "                for i in [-1, 0, 1]:\n",
    "                    for j in [-1, 0, 1]:\n",
    "                        if x + i < cells_x and y + j < cells_y and cells[x + i][y + j] == 0:\n",
    "                            if random.uniform(0, 1) < prey_probability:\n",
    "                                new[x + i][y + j] = 1\n",
    "            if cells[x][y] == 2:\n",
    "                new[x][y] = cells[x][y]\n",
    "                die = True\n",
    "                for i in [-1, 0, 1]:\n",
    "                    for j in [-1, 0, 1]:\n",
    "                        if x + i < cells_x and y + j < cells_y and new[x + i][y + j] == 1:\n",
    "                            die = False\n",
    "                            if random.uniform(0, 1) < predator_probability:\n",
    "                                new[x + i][y + j] = 2\n",
    "                if die == True:\n",
    "                    new[x][y] = 0\n",
    "\n",
    "def draw():\n",
    "    for i in range(cells_x):\n",
    "        for j in range(cells_y):\n",
    "            if new[i][j] == 1:\n",
    "                pygame.draw.rect(display, (255, 255, 255),\n",
    "                                 (i * (cell_size + spacing), j * (cell_size + spacing), cell_size, cell_size), 0)\n",
    "            if new[i][j] == 2:\n",
    "                pygame.draw.rect(display, (70, 70, 70),\n",
    "                                 (i * (cell_size + spacing), j * (cell_size + spacing), cell_size, cell_size), 0)\n",
    "            cells[i][j] = new[i][j]\n",
    "    pygame.display.update()\n",
    "    clock.tick(frame_rate)\n",
    "\n",
    "def run_automaton():\n",
    "    generation = 1\n",
    "    create_grid()\n",
    "    while session:\n",
    "        pygame.display.set_caption('Predator and Prey: Generation {}  Time: {}'.format(str(generation), round(time.time() - start_time,2)))\n",
    "        display.fill(\"black\")\n",
    "        for event in pygame.event.get():\n",
    "            if event.type == pygame.QUIT:\n",
    "                pygame.quit(); sys.exit();\n",
    "\n",
    "        growth()\n",
    "        draw()\n",
    "        generation += 1\n",
    "\n",
    "if __name__ == \"__main__\":\n",
    "    run_automaton()"
   ]
  },
  {
   "cell_type": "code",
   "execution_count": 255,
   "metadata": {},
   "outputs": [],
   "source": [
    "import pygame, sys, random, time\n",
    "import xarray as xr"
   ]
  },
  {
   "cell_type": "code",
   "execution_count": 256,
   "metadata": {},
   "outputs": [],
   "source": [
    "# session = True\n",
    "dimensions = (400, 200)\n",
    "spacing = 0                         # Sets space between each cell\n",
    "cell_size = 4                       # Sets the drawn size of each cell\n",
    "# frame_rate = 30\n",
    "prey_probability = 0.3             # Probability of Prey reproducing - change for different results (choose 0.5 for spiral)\n",
    "predator_probability = 0.2          # Probability of Predator reproducing - change for differnent results (chose 0.4 for spiral)\n",
    "# start_time = time.time()"
   ]
  },
  {
   "cell_type": "code",
   "execution_count": 257,
   "metadata": {},
   "outputs": [],
   "source": [
    "cells_x = int(dimensions[0] / cell_size)\n",
    "cells_y = int(dimensions[1] / cell_size)\n",
    "cells = [[0 for x in range(cells_y)] for y in range(cells_x)]\n",
    "new = [[0 for x in range(cells_y)] for y in range(cells_x)]"
   ]
  },
  {
   "cell_type": "code",
   "execution_count": 77,
   "metadata": {},
   "outputs": [],
   "source": [
    "\n",
    "def create_grid():\n",
    "    #  Assigning random values to our grid of cells: 0 - dead, 1 - prey, 2 - predator\n",
    "    for x in range(cells_x):\n",
    "        for y in range(cells_y):\n",
    "            cells[x][y] = random.choice([0, 0, 1, 2])"
   ]
  },
  {
   "cell_type": "code",
   "execution_count": 78,
   "metadata": {},
   "outputs": [
    {
     "data": {
      "text/plain": [
       "<matplotlib.collections.QuadMesh at 0x7fbc7fc1aca0>"
      ]
     },
     "execution_count": 78,
     "metadata": {},
     "output_type": "execute_result"
    },
    {
     "data": {
      "image/png": "[encoded data removed]",
      "text/plain": [
       "<Figure size 432x288 with 2 Axes>"
      ]
     },
     "metadata": {
      "needs_background": "light"
     },
     "output_type": "display_data"
    }
   ],
   "source": [
    "create_grid()\n",
    "xr.DataArray(cells).plot(robust=True)"
   ]
  },
  {
   "cell_type": "code",
   "execution_count": 263,
   "metadata": {},
   "outputs": [
    {
     "data": {
      "text/html": [
       "<div><svg style=\"position: absolute; width: 0; height: 0; overflow: hidden\">\n",
       "<defs>\n",
       "<symbol id=\"icon-database\" viewBox=\"0 0 32 32\">\n",
       "<path d=\"M16 0c-8.837 0-16 2.239-16 5v4c0 2.761 7.163 5 16 5s16-2.239 16-5v-4c0-2.761-7.163-5-16-5z\"></path>\n",
       "<path d=\"M16 17c-8.837 0-16-2.239-16-5v6c0 2.761 7.163 5 16 5s16-2.239 16-5v-6c0 2.761-7.163 5-16 5z\"></path>\n",
       "<path d=\"M16 26c-8.837 0-16-2.239-16-5v6c0 2.761 7.163 5 16 5s16-2.239 16-5v-6c0 2.761-7.163 5-16 5z\"></path>\n",
       "</symbol>\n",
       "<symbol id=\"icon-file-text2\" viewBox=\"0 0 32 32\">\n",
       "<path d=\"M28.681 7.159c-0.694-0.947-1.662-2.053-2.724-3.116s-2.169-2.030-3.116-2.724c-1.612-1.182-2.393-1.319-2.841-1.319h-15.5c-1.378 0-2.5 1.121-2.5 2.5v27c0 1.378 1.122 2.5 2.5 2.5h23c1.378 0 2.5-1.122 2.5-2.5v-19.5c0-0.448-0.137-1.23-1.319-2.841zM24.543 5.457c0.959 0.959 1.712 1.825 2.268 2.543h-4.811v-4.811c0.718 0.556 1.584 1.309 2.543 2.268zM28 29.5c0 0.271-0.229 0.5-0.5 0.5h-23c-0.271 0-0.5-0.229-0.5-0.5v-27c0-0.271 0.229-0.5 0.5-0.5 0 0 15.499-0 15.5 0v7c0 0.552 0.448 1 1 1h7v19.5z\"></path>\n",
       "<path d=\"M23 26h-14c-0.552 0-1-0.448-1-1s0.448-1 1-1h14c0.552 0 1 0.448 1 1s-0.448 1-1 1z\"></path>\n",
       "<path d=\"M23 22h-14c-0.552 0-1-0.448-1-1s0.448-1 1-1h14c0.552 0 1 0.448 1 1s-0.448 1-1 1z\"></path>\n",
       "<path d=\"M23 18h-14c-0.552 0-1-0.448-1-1s0.448-1 1-1h14c0.552 0 1 0.448 1 1s-0.448 1-1 1z\"></path>\n",
       "</symbol>\n",
       "</defs>\n",
       "</svg>\n",
       "<style>/* CSS stylesheet for displaying xarray objects in jupyterlab.\n",
       " *\n",
       " */\n",
       "\n",
       ":root {\n",
       "  --xr-font-color0: var(--jp-content-font-color0, rgba(0, 0, 0, 1));\n",
       "  --xr-font-color2: var(--jp-content-font-color2, rgba(0, 0, 0, 0.54));\n",
       "  --xr-font-color3: var(--jp-content-font-color3, rgba(0, 0, 0, 0.38));\n",
       "  --xr-border-color: var(--jp-border-color2, #e0e0e0);\n",
       "  --xr-disabled-color: var(--jp-layout-color3, #bdbdbd);\n",
       "  --xr-background-color: var(--jp-layout-color0, white);\n",
       "  --xr-background-color-row-even: var(--jp-layout-color1, white);\n",
       "  --xr-background-color-row-odd: var(--jp-layout-color2, #eeeeee);\n",
       "}\n",
       "\n",
       "html[theme=dark],\n",
       "body.vscode-dark {\n",
       "  --xr-font-color0: rgba(255, 255, 255, 1);\n",
       "  --xr-font-color2: rgba(255, 255, 255, 0.54);\n",
       "  --xr-font-color3: rgba(255, 255, 255, 0.38);\n",
       "  --xr-border-color: #1F1F1F;\n",
       "  --xr-disabled-color: #515151;\n",
       "  --xr-background-color: #111111;\n",
       "  --xr-background-color-row-even: #111111;\n",
       "  --xr-background-color-row-odd: #313131;\n",
       "}\n",
       "\n",
       ".xr-wrap {\n",
       "  display: block !important;\n",
       "  min-width: 300px;\n",
       "  max-width: 700px;\n",
       "}\n",
       "\n",
       ".xr-text-repr-fallback {\n",
       "  /* fallback to plain text repr when CSS is not injected (untrusted notebook) */\n",
       "  display: none;\n",
       "}\n",
       "\n",
       ".xr-header {\n",
       "  padding-top: 6px;\n",
       "  padding-bottom: 6px;\n",
       "  margin-bottom: 4px;\n",
       "  border-bottom: solid 1px var(--xr-border-color);\n",
       "}\n",
       "\n",
       ".xr-header > div,\n",
       ".xr-header > ul {\n",
       "  display: inline;\n",
       "  margin-top: 0;\n",
       "  margin-bottom: 0;\n",
       "}\n",
       "\n",
       ".xr-obj-type,\n",
       ".xr-array-name {\n",
       "  margin-left: 2px;\n",
       "  margin-right: 10px;\n",
       "}\n",
       "\n",
       ".xr-obj-type {\n",
       "  color: var(--xr-font-color2);\n",
       "}\n",
       "\n",
       ".xr-sections {\n",
       "  padding-left: 0 !important;\n",
       "  display: grid;\n",
       "  grid-template-columns: 150px auto auto 1fr 20px 20px;\n",
       "}\n",
       "\n",
       ".xr-section-item {\n",
       "  display: contents;\n",
       "}\n",
       "\n",
       ".xr-section-item input {\n",
       "  display: none;\n",
       "}\n",
       "\n",
       ".xr-section-item input + label {\n",
       "  color: var(--xr-disabled-color);\n",
       "}\n",
       "\n",
       ".xr-section-item input:enabled + label {\n",
       "  cursor: pointer;\n",
       "  color: var(--xr-font-color2);\n",
       "}\n",
       "\n",
       ".xr-section-item input:enabled + label:hover {\n",
       "  color: var(--xr-font-color0);\n",
       "}\n",
       "\n",
       ".xr-section-summary {\n",
       "  grid-column: 1;\n",
       "  color: var(--xr-font-color2);\n",
       "  font-weight: 500;\n",
       "}\n",
       "\n",
       ".xr-section-summary > span {\n",
       "  display: inline-block;\n",
       "  padding-left: 0.5em;\n",
       "}\n",
       "\n",
       ".xr-section-summary-in:disabled + label {\n",
       "  color: var(--xr-font-color2);\n",
       "}\n",
       "\n",
       ".xr-section-summary-in + label:before {\n",
       "  display: inline-block;\n",
       "  content: '►';\n",
       "  font-size: 11px;\n",
       "  width: 15px;\n",
       "  text-align: center;\n",
       "}\n",
       "\n",
       ".xr-section-summary-in:disabled + label:before {\n",
       "  color: var(--xr-disabled-color);\n",
       "}\n",
       "\n",
       ".xr-section-summary-in:checked + label:before {\n",
       "  content: '▼';\n",
       "}\n",
       "\n",
       ".xr-section-summary-in:checked + label > span {\n",
       "  display: none;\n",
       "}\n",
       "\n",
       ".xr-section-summary,\n",
       ".xr-section-inline-details {\n",
       "  padding-top: 4px;\n",
       "  padding-bottom: 4px;\n",
       "}\n",
       "\n",
       ".xr-section-inline-details {\n",
       "  grid-column: 2 / -1;\n",
       "}\n",
       "\n",
       ".xr-section-details {\n",
       "  display: none;\n",
       "  grid-column: 1 / -1;\n",
       "  margin-bottom: 5px;\n",
       "}\n",
       "\n",
       ".xr-section-summary-in:checked ~ .xr-section-details {\n",
       "  display: contents;\n",
       "}\n",
       "\n",
       ".xr-array-wrap {\n",
       "  grid-column: 1 / -1;\n",
       "  display: grid;\n",
       "  grid-template-columns: 20px auto;\n",
       "}\n",
       "\n",
       ".xr-array-wrap > label {\n",
       "  grid-column: 1;\n",
       "  vertical-align: top;\n",
       "}\n",
       "\n",
       ".xr-preview {\n",
       "  color: var(--xr-font-color3);\n",
       "}\n",
       "\n",
       ".xr-array-preview,\n",
       ".xr-array-data {\n",
       "  padding: 0 5px !important;\n",
       "  grid-column: 2;\n",
       "}\n",
       "\n",
       ".xr-array-data,\n",
       ".xr-array-in:checked ~ .xr-array-preview {\n",
       "  display: none;\n",
       "}\n",
       "\n",
       ".xr-array-in:checked ~ .xr-array-data,\n",
       ".xr-array-preview {\n",
       "  display: inline-block;\n",
       "}\n",
       "\n",
       ".xr-dim-list {\n",
       "  display: inline-block !important;\n",
       "  list-style: none;\n",
       "  padding: 0 !important;\n",
       "  margin: 0;\n",
       "}\n",
       "\n",
       ".xr-dim-list li {\n",
       "  display: inline-block;\n",
       "  padding: 0;\n",
       "  margin: 0;\n",
       "}\n",
       "\n",
       ".xr-dim-list:before {\n",
       "  content: '(';\n",
       "}\n",
       "\n",
       ".xr-dim-list:after {\n",
       "  content: ')';\n",
       "}\n",
       "\n",
       ".xr-dim-list li:not(:last-child):after {\n",
       "  content: ',';\n",
       "  padding-right: 5px;\n",
       "}\n",
       "\n",
       ".xr-has-index {\n",
       "  font-weight: bold;\n",
       "}\n",
       "\n",
       ".xr-var-list,\n",
       ".xr-var-item {\n",
       "  display: contents;\n",
       "}\n",
       "\n",
       ".xr-var-item > div,\n",
       ".xr-var-item label,\n",
       ".xr-var-item > .xr-var-name span {\n",
       "  background-color: var(--xr-background-color-row-even);\n",
       "  margin-bottom: 0;\n",
       "}\n",
       "\n",
       ".xr-var-item > .xr-var-name:hover span {\n",
       "  padding-right: 5px;\n",
       "}\n",
       "\n",
       ".xr-var-list > li:nth-child(odd) > div,\n",
       ".xr-var-list > li:nth-child(odd) > label,\n",
       ".xr-var-list > li:nth-child(odd) > .xr-var-name span {\n",
       "  background-color: var(--xr-background-color-row-odd);\n",
       "}\n",
       "\n",
       ".xr-var-name {\n",
       "  grid-column: 1;\n",
       "}\n",
       "\n",
       ".xr-var-dims {\n",
       "  grid-column: 2;\n",
       "}\n",
       "\n",
       ".xr-var-dtype {\n",
       "  grid-column: 3;\n",
       "  text-align: right;\n",
       "  color: var(--xr-font-color2);\n",
       "}\n",
       "\n",
       ".xr-var-preview {\n",
       "  grid-column: 4;\n",
       "}\n",
       "\n",
       ".xr-var-name,\n",
       ".xr-var-dims,\n",
       ".xr-var-dtype,\n",
       ".xr-preview,\n",
       ".xr-attrs dt {\n",
       "  white-space: nowrap;\n",
       "  overflow: hidden;\n",
       "  text-overflow: ellipsis;\n",
       "  padding-right: 10px;\n",
       "}\n",
       "\n",
       ".xr-var-name:hover,\n",
       ".xr-var-dims:hover,\n",
       ".xr-var-dtype:hover,\n",
       ".xr-attrs dt:hover {\n",
       "  overflow: visible;\n",
       "  width: auto;\n",
       "  z-index: 1;\n",
       "}\n",
       "\n",
       ".xr-var-attrs,\n",
       ".xr-var-data {\n",
       "  display: none;\n",
       "  background-color: var(--xr-background-color) !important;\n",
       "  padding-bottom: 5px !important;\n",
       "}\n",
       "\n",
       ".xr-var-attrs-in:checked ~ .xr-var-attrs,\n",
       ".xr-var-data-in:checked ~ .xr-var-data {\n",
       "  display: block;\n",
       "}\n",
       "\n",
       ".xr-var-data > table {\n",
       "  float: right;\n",
       "}\n",
       "\n",
       ".xr-var-name span,\n",
       ".xr-var-data,\n",
       ".xr-attrs {\n",
       "  padding-left: 25px !important;\n",
       "}\n",
       "\n",
       ".xr-attrs,\n",
       ".xr-var-attrs,\n",
       ".xr-var-data {\n",
       "  grid-column: 1 / -1;\n",
       "}\n",
       "\n",
       "dl.xr-attrs {\n",
       "  padding: 0;\n",
       "  margin: 0;\n",
       "  display: grid;\n",
       "  grid-template-columns: 125px auto;\n",
       "}\n",
       "\n",
       ".xr-attrs dt,\n",
       ".xr-attrs dd {\n",
       "  padding: 0;\n",
       "  margin: 0;\n",
       "  float: left;\n",
       "  padding-right: 10px;\n",
       "  width: auto;\n",
       "}\n",
       "\n",
       ".xr-attrs dt {\n",
       "  font-weight: normal;\n",
       "  grid-column: 1;\n",
       "}\n",
       "\n",
       ".xr-attrs dt:hover span {\n",
       "  display: inline-block;\n",
       "  background: var(--xr-background-color);\n",
       "  padding-right: 10px;\n",
       "}\n",
       "\n",
       ".xr-attrs dd {\n",
       "  grid-column: 2;\n",
       "  white-space: pre-wrap;\n",
       "  word-break: break-all;\n",
       "}\n",
       "\n",
       ".xr-icon-database,\n",
       ".xr-icon-file-text2 {\n",
       "  display: inline-block;\n",
       "  vertical-align: middle;\n",
       "  width: 1em;\n",
       "  height: 1.5em !important;\n",
       "  stroke-width: 0;\n",
       "  stroke: currentColor;\n",
       "  fill: currentColor;\n",
       "}\n",
       "</style><pre class='xr-text-repr-fallback'>&lt;xarray.DataArray (dim_0: 100, dim_1: 50)&gt;\n",
       "array([[0, 0, 0, ..., 0, 0, 0],\n",
       "       [0, 0, 0, ..., 0, 0, 0],\n",
       "       [0, 0, 0, ..., 0, 0, 0],\n",
       "       ...,\n",
       "       [0, 0, 0, ..., 0, 0, 0],\n",
       "       [0, 0, 0, ..., 0, 0, 0],\n",
       "       [0, 0, 0, ..., 0, 0, 0]])\n",
       "Dimensions without coordinates: dim_0, dim_1</pre><div class='xr-wrap' style='display:none'><div class='xr-header'><div class='xr-obj-type'>xarray.DataArray</div><div class='xr-array-name'></div><ul class='xr-dim-list'><li><span>dim_0</span>: 100</li><li><span>dim_1</span>: 50</li></ul></div><ul class='xr-sections'><li class='xr-section-item'><div class='xr-array-wrap'><input id='section-73814782-8ed6-418d-b1b9-a4f2cec16bde' class='xr-array-in' type='checkbox' checked><label for='section-73814782-8ed6-418d-b1b9-a4f2cec16bde' title='Show/hide data repr'><svg class='icon xr-icon-database'><use xlink:href='#icon-database'></use></svg></label><div class='xr-array-preview xr-preview'><span>0 0 0 0 0 0 0 0 0 0 0 0 0 0 0 0 0 ... 0 0 0 0 0 0 0 0 0 0 0 0 0 0 0 0</span></div><div class='xr-array-data'><pre>array([[0, 0, 0, ..., 0, 0, 0],\n",
       "       [0, 0, 0, ..., 0, 0, 0],\n",
       "       [0, 0, 0, ..., 0, 0, 0],\n",
       "       ...,\n",
       "       [0, 0, 0, ..., 0, 0, 0],\n",
       "       [0, 0, 0, ..., 0, 0, 0],\n",
       "       [0, 0, 0, ..., 0, 0, 0]])</pre></div></div></li><li class='xr-section-item'><input id='section-4151a2d5-507c-4676-8049-395803f7891b' class='xr-section-summary-in' type='checkbox' disabled ><label for='section-4151a2d5-507c-4676-8049-395803f7891b' class='xr-section-summary'  title='Expand/collapse section'>Coordinates: <span>(0)</span></label><div class='xr-section-inline-details'></div><div class='xr-section-details'><ul class='xr-var-list'></ul></div></li><li class='xr-section-item'><input id='section-4391ed54-84c9-48af-a81f-3c601e5ff24a' class='xr-section-summary-in' type='checkbox' disabled ><label for='section-4391ed54-84c9-48af-a81f-3c601e5ff24a' class='xr-section-summary'  title='Expand/collapse section'>Attributes: <span>(0)</span></label><div class='xr-section-inline-details'></div><div class='xr-section-details'><dl class='xr-attrs'></dl></div></li></ul></div></div>"
      ],
      "text/plain": [
       "<xarray.DataArray (dim_0: 100, dim_1: 50)>\n",
       "array([[0, 0, 0, ..., 0, 0, 0],\n",
       "       [0, 0, 0, ..., 0, 0, 0],\n",
       "       [0, 0, 0, ..., 0, 0, 0],\n",
       "       ...,\n",
       "       [0, 0, 0, ..., 0, 0, 0],\n",
       "       [0, 0, 0, ..., 0, 0, 0],\n",
       "       [0, 0, 0, ..., 0, 0, 0]])\n",
       "Dimensions without coordinates: dim_0, dim_1"
      ]
     },
     "execution_count": 263,
     "metadata": {},
     "output_type": "execute_result"
    }
   ],
   "source": [
    "type(cells)\n",
    "xr.DataArray(cells)"
   ]
  },
  {
   "cell_type": "code",
   "execution_count": 80,
   "metadata": {},
   "outputs": [],
   "source": [
    "def growth():\n",
    "    for x in range(cells_x):\n",
    "        for y in range(cells_y):\n",
    "            if cells[x][y] == 1:\n",
    "                new[x][y] = cells[x][y]\n",
    "                for i in [-1, 0, 1]:\n",
    "                    for j in [-1, 0, 1]:\n",
    "                        if x + i < cells_x and y + j < cells_y and cells[x + i][y + j] == 0:\n",
    "                            if random.uniform(0, 1) < prey_probability:\n",
    "                                new[x + i][y + j] = 1\n",
    "            if cells[x][y] == 2:\n",
    "                new[x][y] = cells[x][y]\n",
    "                die = True\n",
    "                for i in [-1, 0, 1]:\n",
    "                    for j in [-1, 0, 1]:\n",
    "                        if x + i < cells_x and y + j < cells_y and new[x + i][y + j] == 1:\n",
    "                            die = False\n",
    "                            if random.uniform(0, 1) < predator_probability:\n",
    "                                new[x + i][y + j] = 2\n",
    "                if die == True:\n",
    "                    new[x][y] = 0"
   ]
  },
  {
   "cell_type": "code",
   "execution_count": 152,
   "metadata": {},
   "outputs": [
    {
     "data": {
      "text/plain": [
       "<matplotlib.collections.QuadMesh at 0x7fbc7c911c10>"
      ]
     },
     "execution_count": 152,
     "metadata": {},
     "output_type": "execute_result"
    },
    {
     "data": {
      "image/png": "[encoded data removed]",
      "text/plain": [
       "<Figure size 432x288 with 2 Axes>"
      ]
     },
     "metadata": {
      "needs_background": "light"
     },
     "output_type": "display_data"
    }
   ],
   "source": [
    "growth()\n",
    "\n",
    "xr.DataArray(new).plot()"
   ]
  },
  {
   "cell_type": "code",
   "execution_count": null,
   "metadata": {},
   "outputs": [],
   "source": []
  },
  {
   "cell_type": "markdown",
   "metadata": {},
   "source": [
    "### CA on raster data"
   ]
  },
  {
   "cell_type": "code",
   "execution_count": 1,
   "metadata": {},
   "outputs": [],
   "source": [
    "import xarray as xr\n",
    "import rioxarray as rio\n",
    "# import dask\n",
    "# import datacube\n",
    "\n",
    "import matplotlib.pyplot as plt\n",
    "from dask.distributed import Client\n",
    "\n",
    "%matplotlib inline"
   ]
  },
  {
   "cell_type": "code",
   "execution_count": 3,
   "metadata": {},
   "outputs": [
    {
     "data": {
      "text/plain": [
       "<matplotlib.collections.QuadMesh at 0x7f300b1b9610>"
      ]
     },
     "execution_count": 3,
     "metadata": {},
     "output_type": "execute_result"
    },
    {
     "data": {
      "image/png": "[encoded data removed]",
      "text/plain": [
       "<Figure size 432x288 with 2 Axes>"
      ]
     },
     "metadata": {
      "needs_background": "light"
     },
     "output_type": "display_data"
    }
   ],
   "source": [
    "rr = rio.open_rasterio(\"/home/rvalavi/Downloads/gfs_vgrd_20220301_t00z_f010\")\n",
    "rr.plot()"
   ]
  },
  {
   "cell_type": "code",
   "execution_count": 4,
   "metadata": {},
   "outputs": [
    {
     "data": {
      "text/plain": [
       "<matplotlib.collections.QuadMesh at 0x7f300859c070>"
      ]
     },
     "execution_count": 4,
     "metadata": {},
     "output_type": "execute_result"
    },
    {
     "data": {
      "image/png": "[encoded data removed]",
      "text/plain": [
       "<Figure size 432x288 with 2 Axes>"
      ]
     },
     "metadata": {
      "needs_background": "light"
     },
     "output_type": "display_data"
    }
   ],
   "source": [
    "r = rr.isel(x = range(15), y = range(15))\n",
    "r.plot()"
   ]
  },
  {
   "cell_type": "code",
   "execution_count": 5,
   "metadata": {},
   "outputs": [
    {
     "data": {
      "text/plain": [
       "<matplotlib.collections.QuadMesh at 0x7f30084dca90>"
      ]
     },
     "execution_count": 5,
     "metadata": {},
     "output_type": "execute_result"
    },
    {
     "data": {
      "image/png": "[encoded data removed]",
      "text/plain": [
       "<Figure size 432x288 with 2 Axes>"
      ]
     },
     "metadata": {
      "needs_background": "light"
     },
     "output_type": "display_data"
    }
   ],
   "source": [
    "newr = r.copy()\n",
    "newr[0] = None\n",
    "\n",
    "## first case is for full array\n",
    "# newr[0][10, 10:13] = [5,6,7]\n",
    "newr[0].values[10, 10:13] = [5,6,7]\n",
    "# newr\n",
    "newr.plot()"
   ]
  },
  {
   "cell_type": "code",
   "execution_count": 6,
   "metadata": {},
   "outputs": [
    {
     "data": {
      "text/plain": [
       "<matplotlib.collections.QuadMesh at 0x7f3006a2b790>"
      ]
     },
     "execution_count": 6,
     "metadata": {},
     "output_type": "execute_result"
    },
    {
     "data": {
      "image/png": "[encoded data removed]",
      "text/plain": [
       "<Figure size 432x288 with 2 Axes>"
      ]
     },
     "metadata": {
      "needs_background": "light"
     },
     "output_type": "display_data"
    }
   ],
   "source": [
    "newr = r.copy()\n",
    "newr[0] = None\n",
    "\n",
    "xlen = r[0].shape[0]\n",
    "ylen = r[0].shape[1]\n",
    "for i in range(xlen):\n",
    "    for j in range(ylen):\n",
    "        if r[0][i, j] > 2:\n",
    "            newr[0].values[i, j] = r[0][i, j]\n",
    "        if r[0][i, j] < -2:\n",
    "            newr[0].values[i, j] = r[0][i, j]\n",
    "\n",
    "newr[0].plot()"
   ]
  },
  {
   "cell_type": "code",
   "execution_count": 7,
   "metadata": {},
   "outputs": [
    {
     "data": {
      "text/html": [
       "<div><svg style=\"position: absolute; width: 0; height: 0; overflow: hidden\">\n",
       "<defs>\n",
       "<symbol id=\"icon-database\" viewBox=\"0 0 32 32\">\n",
       "<path d=\"M16 0c-8.837 0-16 2.239-16 5v4c0 2.761 7.163 5 16 5s16-2.239 16-5v-4c0-2.761-7.163-5-16-5z\"></path>\n",
       "<path d=\"M16 17c-8.837 0-16-2.239-16-5v6c0 2.761 7.163 5 16 5s16-2.239 16-5v-6c0 2.761-7.163 5-16 5z\"></path>\n",
       "<path d=\"M16 26c-8.837 0-16-2.239-16-5v6c0 2.761 7.163 5 16 5s16-2.239 16-5v-6c0 2.761-7.163 5-16 5z\"></path>\n",
       "</symbol>\n",
       "<symbol id=\"icon-file-text2\" viewBox=\"0 0 32 32\">\n",
       "<path d=\"M28.681 7.159c-0.694-0.947-1.662-2.053-2.724-3.116s-2.169-2.030-3.116-2.724c-1.612-1.182-2.393-1.319-2.841-1.319h-15.5c-1.378 0-2.5 1.121-2.5 2.5v27c0 1.378 1.122 2.5 2.5 2.5h23c1.378 0 2.5-1.122 2.5-2.5v-19.5c0-0.448-0.137-1.23-1.319-2.841zM24.543 5.457c0.959 0.959 1.712 1.825 2.268 2.543h-4.811v-4.811c0.718 0.556 1.584 1.309 2.543 2.268zM28 29.5c0 0.271-0.229 0.5-0.5 0.5h-23c-0.271 0-0.5-0.229-0.5-0.5v-27c0-0.271 0.229-0.5 0.5-0.5 0 0 15.499-0 15.5 0v7c0 0.552 0.448 1 1 1h7v19.5z\"></path>\n",
       "<path d=\"M23 26h-14c-0.552 0-1-0.448-1-1s0.448-1 1-1h14c0.552 0 1 0.448 1 1s-0.448 1-1 1z\"></path>\n",
       "<path d=\"M23 22h-14c-0.552 0-1-0.448-1-1s0.448-1 1-1h14c0.552 0 1 0.448 1 1s-0.448 1-1 1z\"></path>\n",
       "<path d=\"M23 18h-14c-0.552 0-1-0.448-1-1s0.448-1 1-1h14c0.552 0 1 0.448 1 1s-0.448 1-1 1z\"></path>\n",
       "</symbol>\n",
       "</defs>\n",
       "</svg>\n",
       "<style>/* CSS stylesheet for displaying xarray objects in jupyterlab.\n",
       " *\n",
       " */\n",
       "\n",
       ":root {\n",
       "  --xr-font-color0: var(--jp-content-font-color0, rgba(0, 0, 0, 1));\n",
       "  --xr-font-color2: var(--jp-content-font-color2, rgba(0, 0, 0, 0.54));\n",
       "  --xr-font-color3: var(--jp-content-font-color3, rgba(0, 0, 0, 0.38));\n",
       "  --xr-border-color: var(--jp-border-color2, #e0e0e0);\n",
       "  --xr-disabled-color: var(--jp-layout-color3, #bdbdbd);\n",
       "  --xr-background-color: var(--jp-layout-color0, white);\n",
       "  --xr-background-color-row-even: var(--jp-layout-color1, white);\n",
       "  --xr-background-color-row-odd: var(--jp-layout-color2, #eeeeee);\n",
       "}\n",
       "\n",
       "html[theme=dark],\n",
       "body.vscode-dark {\n",
       "  --xr-font-color0: rgba(255, 255, 255, 1);\n",
       "  --xr-font-color2: rgba(255, 255, 255, 0.54);\n",
       "  --xr-font-color3: rgba(255, 255, 255, 0.38);\n",
       "  --xr-border-color: #1F1F1F;\n",
       "  --xr-disabled-color: #515151;\n",
       "  --xr-background-color: #111111;\n",
       "  --xr-background-color-row-even: #111111;\n",
       "  --xr-background-color-row-odd: #313131;\n",
       "}\n",
       "\n",
       ".xr-wrap {\n",
       "  display: block !important;\n",
       "  min-width: 300px;\n",
       "  max-width: 700px;\n",
       "}\n",
       "\n",
       ".xr-text-repr-fallback {\n",
       "  /* fallback to plain text repr when CSS is not injected (untrusted notebook) */\n",
       "  display: none;\n",
       "}\n",
       "\n",
       ".xr-header {\n",
       "  padding-top: 6px;\n",
       "  padding-bottom: 6px;\n",
       "  margin-bottom: 4px;\n",
       "  border-bottom: solid 1px var(--xr-border-color);\n",
       "}\n",
       "\n",
       ".xr-header > div,\n",
       ".xr-header > ul {\n",
       "  display: inline;\n",
       "  margin-top: 0;\n",
       "  margin-bottom: 0;\n",
       "}\n",
       "\n",
       ".xr-obj-type,\n",
       ".xr-array-name {\n",
       "  margin-left: 2px;\n",
       "  margin-right: 10px;\n",
       "}\n",
       "\n",
       ".xr-obj-type {\n",
       "  color: var(--xr-font-color2);\n",
       "}\n",
       "\n",
       ".xr-sections {\n",
       "  padding-left: 0 !important;\n",
       "  display: grid;\n",
       "  grid-template-columns: 150px auto auto 1fr 20px 20px;\n",
       "}\n",
       "\n",
       ".xr-section-item {\n",
       "  display: contents;\n",
       "}\n",
       "\n",
       ".xr-section-item input {\n",
       "  display: none;\n",
       "}\n",
       "\n",
       ".xr-section-item input + label {\n",
       "  color: var(--xr-disabled-color);\n",
       "}\n",
       "\n",
       ".xr-section-item input:enabled + label {\n",
       "  cursor: pointer;\n",
       "  color: var(--xr-font-color2);\n",
       "}\n",
       "\n",
       ".xr-section-item input:enabled + label:hover {\n",
       "  color: var(--xr-font-color0);\n",
       "}\n",
       "\n",
       ".xr-section-summary {\n",
       "  grid-column: 1;\n",
       "  color: var(--xr-font-color2);\n",
       "  font-weight: 500;\n",
       "}\n",
       "\n",
       ".xr-section-summary > span {\n",
       "  display: inline-block;\n",
       "  padding-left: 0.5em;\n",
       "}\n",
       "\n",
       ".xr-section-summary-in:disabled + label {\n",
       "  color: var(--xr-font-color2);\n",
       "}\n",
       "\n",
       ".xr-section-summary-in + label:before {\n",
       "  display: inline-block;\n",
       "  content: '►';\n",
       "  font-size: 11px;\n",
       "  width: 15px;\n",
       "  text-align: center;\n",
       "}\n",
       "\n",
       ".xr-section-summary-in:disabled + label:before {\n",
       "  color: var(--xr-disabled-color);\n",
       "}\n",
       "\n",
       ".xr-section-summary-in:checked + label:before {\n",
       "  content: '▼';\n",
       "}\n",
       "\n",
       ".xr-section-summary-in:checked + label > span {\n",
       "  display: none;\n",
       "}\n",
       "\n",
       ".xr-section-summary,\n",
       ".xr-section-inline-details {\n",
       "  padding-top: 4px;\n",
       "  padding-bottom: 4px;\n",
       "}\n",
       "\n",
       ".xr-section-inline-details {\n",
       "  grid-column: 2 / -1;\n",
       "}\n",
       "\n",
       ".xr-section-details {\n",
       "  display: none;\n",
       "  grid-column: 1 / -1;\n",
       "  margin-bottom: 5px;\n",
       "}\n",
       "\n",
       ".xr-section-summary-in:checked ~ .xr-section-details {\n",
       "  display: contents;\n",
       "}\n",
       "\n",
       ".xr-array-wrap {\n",
       "  grid-column: 1 / -1;\n",
       "  display: grid;\n",
       "  grid-template-columns: 20px auto;\n",
       "}\n",
       "\n",
       ".xr-array-wrap > label {\n",
       "  grid-column: 1;\n",
       "  vertical-align: top;\n",
       "}\n",
       "\n",
       ".xr-preview {\n",
       "  color: var(--xr-font-color3);\n",
       "}\n",
       "\n",
       ".xr-array-preview,\n",
       ".xr-array-data {\n",
       "  padding: 0 5px !important;\n",
       "  grid-column: 2;\n",
       "}\n",
       "\n",
       ".xr-array-data,\n",
       ".xr-array-in:checked ~ .xr-array-preview {\n",
       "  display: none;\n",
       "}\n",
       "\n",
       ".xr-array-in:checked ~ .xr-array-data,\n",
       ".xr-array-preview {\n",
       "  display: inline-block;\n",
       "}\n",
       "\n",
       ".xr-dim-list {\n",
       "  display: inline-block !important;\n",
       "  list-style: none;\n",
       "  padding: 0 !important;\n",
       "  margin: 0;\n",
       "}\n",
       "\n",
       ".xr-dim-list li {\n",
       "  display: inline-block;\n",
       "  padding: 0;\n",
       "  margin: 0;\n",
       "}\n",
       "\n",
       ".xr-dim-list:before {\n",
       "  content: '(';\n",
       "}\n",
       "\n",
       ".xr-dim-list:after {\n",
       "  content: ')';\n",
       "}\n",
       "\n",
       ".xr-dim-list li:not(:last-child):after {\n",
       "  content: ',';\n",
       "  padding-right: 5px;\n",
       "}\n",
       "\n",
       ".xr-has-index {\n",
       "  font-weight: bold;\n",
       "}\n",
       "\n",
       ".xr-var-list,\n",
       ".xr-var-item {\n",
       "  display: contents;\n",
       "}\n",
       "\n",
       ".xr-var-item > div,\n",
       ".xr-var-item label,\n",
       ".xr-var-item > .xr-var-name span {\n",
       "  background-color: var(--xr-background-color-row-even);\n",
       "  margin-bottom: 0;\n",
       "}\n",
       "\n",
       ".xr-var-item > .xr-var-name:hover span {\n",
       "  padding-right: 5px;\n",
       "}\n",
       "\n",
       ".xr-var-list > li:nth-child(odd) > div,\n",
       ".xr-var-list > li:nth-child(odd) > label,\n",
       ".xr-var-list > li:nth-child(odd) > .xr-var-name span {\n",
       "  background-color: var(--xr-background-color-row-odd);\n",
       "}\n",
       "\n",
       ".xr-var-name {\n",
       "  grid-column: 1;\n",
       "}\n",
       "\n",
       ".xr-var-dims {\n",
       "  grid-column: 2;\n",
       "}\n",
       "\n",
       ".xr-var-dtype {\n",
       "  grid-column: 3;\n",
       "  text-align: right;\n",
       "  color: var(--xr-font-color2);\n",
       "}\n",
       "\n",
       ".xr-var-preview {\n",
       "  grid-column: 4;\n",
       "}\n",
       "\n",
       ".xr-var-name,\n",
       ".xr-var-dims,\n",
       ".xr-var-dtype,\n",
       ".xr-preview,\n",
       ".xr-attrs dt {\n",
       "  white-space: nowrap;\n",
       "  overflow: hidden;\n",
       "  text-overflow: ellipsis;\n",
       "  padding-right: 10px;\n",
       "}\n",
       "\n",
       ".xr-var-name:hover,\n",
       ".xr-var-dims:hover,\n",
       ".xr-var-dtype:hover,\n",
       ".xr-attrs dt:hover {\n",
       "  overflow: visible;\n",
       "  width: auto;\n",
       "  z-index: 1;\n",
       "}\n",
       "\n",
       ".xr-var-attrs,\n",
       ".xr-var-data {\n",
       "  display: none;\n",
       "  background-color: var(--xr-background-color) !important;\n",
       "  padding-bottom: 5px !important;\n",
       "}\n",
       "\n",
       ".xr-var-attrs-in:checked ~ .xr-var-attrs,\n",
       ".xr-var-data-in:checked ~ .xr-var-data {\n",
       "  display: block;\n",
       "}\n",
       "\n",
       ".xr-var-data > table {\n",
       "  float: right;\n",
       "}\n",
       "\n",
       ".xr-var-name span,\n",
       ".xr-var-data,\n",
       ".xr-attrs {\n",
       "  padding-left: 25px !important;\n",
       "}\n",
       "\n",
       ".xr-attrs,\n",
       ".xr-var-attrs,\n",
       ".xr-var-data {\n",
       "  grid-column: 1 / -1;\n",
       "}\n",
       "\n",
       "dl.xr-attrs {\n",
       "  padding: 0;\n",
       "  margin: 0;\n",
       "  display: grid;\n",
       "  grid-template-columns: 125px auto;\n",
       "}\n",
       "\n",
       ".xr-attrs dt,\n",
       ".xr-attrs dd {\n",
       "  padding: 0;\n",
       "  margin: 0;\n",
       "  float: left;\n",
       "  padding-right: 10px;\n",
       "  width: auto;\n",
       "}\n",
       "\n",
       ".xr-attrs dt {\n",
       "  font-weight: normal;\n",
       "  grid-column: 1;\n",
       "}\n",
       "\n",
       ".xr-attrs dt:hover span {\n",
       "  display: inline-block;\n",
       "  background: var(--xr-background-color);\n",
       "  padding-right: 10px;\n",
       "}\n",
       "\n",
       ".xr-attrs dd {\n",
       "  grid-column: 2;\n",
       "  white-space: pre-wrap;\n",
       "  word-break: break-all;\n",
       "}\n",
       "\n",
       ".xr-icon-database,\n",
       ".xr-icon-file-text2 {\n",
       "  display: inline-block;\n",
       "  vertical-align: middle;\n",
       "  width: 1em;\n",
       "  height: 1.5em !important;\n",
       "  stroke-width: 0;\n",
       "  stroke: currentColor;\n",
       "  fill: currentColor;\n",
       "}\n",
       "</style><pre class='xr-text-repr-fallback'>&lt;xarray.DataArray (band: 1, y: 15, x: 15)&gt;\n",
       "array([[[      nan,       nan, ..., -3.883945, -3.353945],\n",
       "        [      nan,       nan, ..., -4.063945, -3.523945],\n",
       "        ...,\n",
       "        [ 2.126055,  2.246055, ..., -3.453945, -3.593945],\n",
       "        [      nan,  2.156055, ...,       nan,       nan]]])\n",
       "Coordinates:\n",
       "  * band         (band) int64 1\n",
       "  * x            (x) float64 100.0 100.2 100.5 100.8 ... 102.8 103.0 103.2 103.5\n",
       "  * y            (y) float64 1.0 0.75 0.5 0.25 0.0 ... -1.75 -2.0 -2.25 -2.5\n",
       "    spatial_ref  int64 0\n",
       "Attributes:\n",
       "    GRIB_COMMENT:                        v-component of wind [m/s]\n",
       "    GRIB_DISCIPLINE:                     0(Meteorological)\n",
       "    GRIB_ELEMENT:                        VGRD\n",
       "    GRIB_FORECAST_SECONDS:               36000 sec\n",
       "    GRIB_IDS:                            CENTER=7(US-NCEP) SUBCENTER=0 MASTER...\n",
       "    GRIB_PDS_PDTN:                       0\n",
       "    GRIB_PDS_TEMPLATE_ASSEMBLED_VALUES:  2 3 2 0 96 0 0 1 10 100 0 97500 255 0 0\n",
       "    GRIB_PDS_TEMPLATE_NUMBERS:           2 3 2 0 96 0 0 0 1 0 0 0 10 100 0 0 ...\n",
       "    GRIB_REF_TIME:                       1646092800 sec UTC\n",
       "    GRIB_SHORT_NAME:                     97500-ISBL\n",
       "    GRIB_UNIT:                           [m/s]\n",
       "    GRIB_VALID_TIME:                     1646128800 sec UTC\n",
       "    scale_factor:                        1.0\n",
       "    add_offset:                          0.0\n",
       "    long_name:                           97500[Pa] ISBL=&quot;Isobaric surface&quot;</pre><div class='xr-wrap' style='display:none'><div class='xr-header'><div class='xr-obj-type'>xarray.DataArray</div><div class='xr-array-name'></div><ul class='xr-dim-list'><li><span class='xr-has-index'>band</span>: 1</li><li><span class='xr-has-index'>y</span>: 15</li><li><span class='xr-has-index'>x</span>: 15</li></ul></div><ul class='xr-sections'><li class='xr-section-item'><div class='xr-array-wrap'><input id='section-d22ef5e4-688b-4381-89be-ad9951ba8e4e' class='xr-array-in' type='checkbox' checked><label for='section-d22ef5e4-688b-4381-89be-ad9951ba8e4e' title='Show/hide data repr'><svg class='icon xr-icon-database'><use xlink:href='#icon-database'></use></svg></label><div class='xr-array-preview xr-preview'><span>nan nan nan nan nan nan nan nan ... nan nan nan nan nan nan nan nan</span></div><div class='xr-array-data'><pre>array([[[      nan,       nan, ..., -3.883945, -3.353945],\n",
       "        [      nan,       nan, ..., -4.063945, -3.523945],\n",
       "        ...,\n",
       "        [ 2.126055,  2.246055, ..., -3.453945, -3.593945],\n",
       "        [      nan,  2.156055, ...,       nan,       nan]]])</pre></div></div></li><li class='xr-section-item'><input id='section-6bc6541b-5381-4d0a-8206-84ea9dbf3b08' class='xr-section-summary-in' type='checkbox'  checked><label for='section-6bc6541b-5381-4d0a-8206-84ea9dbf3b08' class='xr-section-summary' >Coordinates: <span>(4)</span></label><div class='xr-section-inline-details'></div><div class='xr-section-details'><ul class='xr-var-list'><li class='xr-var-item'><div class='xr-var-name'><span class='xr-has-index'>band</span></div><div class='xr-var-dims'>(band)</div><div class='xr-var-dtype'>int64</div><div class='xr-var-preview xr-preview'>1</div><input id='attrs-bd056e2b-f9b1-438c-a741-82b35e8152dc' class='xr-var-attrs-in' type='checkbox' disabled><label for='attrs-bd056e2b-f9b1-438c-a741-82b35e8152dc' title='Show/Hide attributes'><svg class='icon xr-icon-file-text2'><use xlink:href='#icon-file-text2'></use></svg></label><input id='data-36765590-295a-4bca-a9ed-43c6ea4c695f' class='xr-var-data-in' type='checkbox'><label for='data-36765590-295a-4bca-a9ed-43c6ea4c695f' title='Show/Hide data repr'><svg class='icon xr-icon-database'><use xlink:href='#icon-database'></use></svg></label><div class='xr-var-attrs'><dl class='xr-attrs'></dl></div><div class='xr-var-data'><pre>array([1])</pre></div></li><li class='xr-var-item'><div class='xr-var-name'><span class='xr-has-index'>x</span></div><div class='xr-var-dims'>(x)</div><div class='xr-var-dtype'>float64</div><div class='xr-var-preview xr-preview'>100.0 100.2 100.5 ... 103.2 103.5</div><input id='attrs-2c816526-c9a5-475d-b0f6-28ce2675e2f3' class='xr-var-attrs-in' type='checkbox' disabled><label for='attrs-2c816526-c9a5-475d-b0f6-28ce2675e2f3' title='Show/Hide attributes'><svg class='icon xr-icon-file-text2'><use xlink:href='#icon-file-text2'></use></svg></label><input id='data-3983ea96-a9a1-44d0-855c-8381fe508da5' class='xr-var-data-in' type='checkbox'><label for='data-3983ea96-a9a1-44d0-855c-8381fe508da5' title='Show/Hide data repr'><svg class='icon xr-icon-database'><use xlink:href='#icon-database'></use></svg></label><div class='xr-var-attrs'><dl class='xr-attrs'></dl></div><div class='xr-var-data'><pre>array([100.  , 100.25, 100.5 , 100.75, 101.  , 101.25, 101.5 , 101.75, 102.  ,\n",
       "       102.25, 102.5 , 102.75, 103.  , 103.25, 103.5 ])</pre></div></li><li class='xr-var-item'><div class='xr-var-name'><span class='xr-has-index'>y</span></div><div class='xr-var-dims'>(y)</div><div class='xr-var-dtype'>float64</div><div class='xr-var-preview xr-preview'>1.0 0.75 0.5 ... -2.0 -2.25 -2.5</div><input id='attrs-71e6b3b6-c9ef-41ca-ba41-cedd62e277fe' class='xr-var-attrs-in' type='checkbox' disabled><label for='attrs-71e6b3b6-c9ef-41ca-ba41-cedd62e277fe' title='Show/Hide attributes'><svg class='icon xr-icon-file-text2'><use xlink:href='#icon-file-text2'></use></svg></label><input id='data-0dc34177-e885-4278-b0fa-f0f1a976c59c' class='xr-var-data-in' type='checkbox'><label for='data-0dc34177-e885-4278-b0fa-f0f1a976c59c' title='Show/Hide data repr'><svg class='icon xr-icon-database'><use xlink:href='#icon-database'></use></svg></label><div class='xr-var-attrs'><dl class='xr-attrs'></dl></div><div class='xr-var-data'><pre>array([ 1.  ,  0.75,  0.5 ,  0.25,  0.  , -0.25, -0.5 , -0.75, -1.  , -1.25,\n",
       "       -1.5 , -1.75, -2.  , -2.25, -2.5 ])</pre></div></li><li class='xr-var-item'><div class='xr-var-name'><span>spatial_ref</span></div><div class='xr-var-dims'>()</div><div class='xr-var-dtype'>int64</div><div class='xr-var-preview xr-preview'>0</div><input id='attrs-35a5b695-784b-4da8-970e-5e707c2fc679' class='xr-var-attrs-in' type='checkbox' ><label for='attrs-35a5b695-784b-4da8-970e-5e707c2fc679' title='Show/Hide attributes'><svg class='icon xr-icon-file-text2'><use xlink:href='#icon-file-text2'></use></svg></label><input id='data-7fe3d54a-cab4-468b-95c9-2c0ec598cb10' class='xr-var-data-in' type='checkbox'><label for='data-7fe3d54a-cab4-468b-95c9-2c0ec598cb10' title='Show/Hide data repr'><svg class='icon xr-icon-database'><use xlink:href='#icon-database'></use></svg></label><div class='xr-var-attrs'><dl class='xr-attrs'><dt><span>crs_wkt :</span></dt><dd>GEOGCS[&quot;Coordinate System imported from GRIB file&quot;,DATUM[&quot;unnamed&quot;,SPHEROID[&quot;Sphere&quot;,6371229,0]],PRIMEM[&quot;Greenwich&quot;,0],UNIT[&quot;degree&quot;,0.0174532925199433,AUTHORITY[&quot;EPSG&quot;,&quot;9122&quot;]],AXIS[&quot;Latitude&quot;,NORTH],AXIS[&quot;Longitude&quot;,EAST]]</dd><dt><span>semi_major_axis :</span></dt><dd>6371229.0</dd><dt><span>semi_minor_axis :</span></dt><dd>6371229.0</dd><dt><span>inverse_flattening :</span></dt><dd>0.0</dd><dt><span>reference_ellipsoid_name :</span></dt><dd>Sphere</dd><dt><span>longitude_of_prime_meridian :</span></dt><dd>0.0</dd><dt><span>prime_meridian_name :</span></dt><dd>Greenwich</dd><dt><span>geographic_crs_name :</span></dt><dd>Coordinate System imported from GRIB file</dd><dt><span>grid_mapping_name :</span></dt><dd>latitude_longitude</dd><dt><span>spatial_ref :</span></dt><dd>GEOGCS[&quot;Coordinate System imported from GRIB file&quot;,DATUM[&quot;unnamed&quot;,SPHEROID[&quot;Sphere&quot;,6371229,0]],PRIMEM[&quot;Greenwich&quot;,0],UNIT[&quot;degree&quot;,0.0174532925199433,AUTHORITY[&quot;EPSG&quot;,&quot;9122&quot;]],AXIS[&quot;Latitude&quot;,NORTH],AXIS[&quot;Longitude&quot;,EAST]]</dd><dt><span>GeoTransform :</span></dt><dd>99.875 0.25 0.0 1.125 0.0 -0.25</dd></dl></div><div class='xr-var-data'><pre>array(0)</pre></div></li></ul></div></li><li class='xr-section-item'><input id='section-b2cfee61-3595-4402-bcd7-c2f42f472e46' class='xr-section-summary-in' type='checkbox'  ><label for='section-b2cfee61-3595-4402-bcd7-c2f42f472e46' class='xr-section-summary' >Attributes: <span>(15)</span></label><div class='xr-section-inline-details'></div><div class='xr-section-details'><dl class='xr-attrs'><dt><span>GRIB_COMMENT :</span></dt><dd>v-component of wind [m/s]</dd><dt><span>GRIB_DISCIPLINE :</span></dt><dd>0(Meteorological)</dd><dt><span>GRIB_ELEMENT :</span></dt><dd>VGRD</dd><dt><span>GRIB_FORECAST_SECONDS :</span></dt><dd>36000 sec</dd><dt><span>GRIB_IDS :</span></dt><dd>CENTER=7(US-NCEP) SUBCENTER=0 MASTER_TABLE=2 LOCAL_TABLE=1 SIGNF_REF_TIME=1(Start_of_Forecast) REF_TIME=2022-03-01T00:00:00Z PROD_STATUS=0(Operational) TYPE=1(Forecast)</dd><dt><span>GRIB_PDS_PDTN :</span></dt><dd>0</dd><dt><span>GRIB_PDS_TEMPLATE_ASSEMBLED_VALUES :</span></dt><dd>2 3 2 0 96 0 0 1 10 100 0 97500 255 0 0</dd><dt><span>GRIB_PDS_TEMPLATE_NUMBERS :</span></dt><dd>2 3 2 0 96 0 0 0 1 0 0 0 10 100 0 0 1 124 220 255 0 0 0 0 0</dd><dt><span>GRIB_REF_TIME :</span></dt><dd>1646092800 sec UTC</dd><dt><span>GRIB_SHORT_NAME :</span></dt><dd>97500-ISBL</dd><dt><span>GRIB_UNIT :</span></dt><dd>[m/s]</dd><dt><span>GRIB_VALID_TIME :</span></dt><dd>1646128800 sec UTC</dd><dt><span>scale_factor :</span></dt><dd>1.0</dd><dt><span>add_offset :</span></dt><dd>0.0</dd><dt><span>long_name :</span></dt><dd>97500[Pa] ISBL=&quot;Isobaric surface&quot;</dd></dl></div></li></ul></div></div>"
      ],
      "text/plain": [
       "<xarray.DataArray (band: 1, y: 15, x: 15)>\n",
       "array([[[      nan,       nan, ..., -3.883945, -3.353945],\n",
       "        [      nan,       nan, ..., -4.063945, -3.523945],\n",
       "        ...,\n",
       "        [ 2.126055,  2.246055, ..., -3.453945, -3.593945],\n",
       "        [      nan,  2.156055, ...,       nan,       nan]]])\n",
       "Coordinates:\n",
       "  * band         (band) int64 1\n",
       "  * x            (x) float64 100.0 100.2 100.5 100.8 ... 102.8 103.0 103.2 103.5\n",
       "  * y            (y) float64 1.0 0.75 0.5 0.25 0.0 ... -1.75 -2.0 -2.25 -2.5\n",
       "    spatial_ref  int64 0\n",
       "Attributes:\n",
       "    GRIB_COMMENT:                        v-component of wind [m/s]\n",
       "    GRIB_DISCIPLINE:                     0(Meteorological)\n",
       "    GRIB_ELEMENT:                        VGRD\n",
       "    GRIB_FORECAST_SECONDS:               36000 sec\n",
       "    GRIB_IDS:                            CENTER=7(US-NCEP) SUBCENTER=0 MASTER...\n",
       "    GRIB_PDS_PDTN:                       0\n",
       "    GRIB_PDS_TEMPLATE_ASSEMBLED_VALUES:  2 3 2 0 96 0 0 1 10 100 0 97500 255 0 0\n",
       "    GRIB_PDS_TEMPLATE_NUMBERS:           2 3 2 0 96 0 0 0 1 0 0 0 10 100 0 0 ...\n",
       "    GRIB_REF_TIME:                       1646092800 sec UTC\n",
       "    GRIB_SHORT_NAME:                     97500-ISBL\n",
       "    GRIB_UNIT:                           [m/s]\n",
       "    GRIB_VALID_TIME:                     1646128800 sec UTC\n",
       "    scale_factor:                        1.0\n",
       "    add_offset:                          0.0\n",
       "    long_name:                           97500[Pa] ISBL=\"Isobaric surface\""
      ]
     },
     "execution_count": 7,
     "metadata": {},
     "output_type": "execute_result"
    }
   ],
   "source": [
    "newr"
   ]
  },
  {
   "cell_type": "code",
   "execution_count": 8,
   "metadata": {},
   "outputs": [
    {
     "data": {
      "text/plain": [
       "<matplotlib.collections.QuadMesh at 0x7f300696faf0>"
      ]
     },
     "execution_count": 8,
     "metadata": {},
     "output_type": "execute_result"
    },
    {
     "data": {
      "image/png": "[encoded data removed]",
      "text/plain": [
       "<Figure size 432x288 with 2 Axes>"
      ]
     },
     "metadata": {
      "needs_background": "light"
     },
     "output_type": "display_data"
    }
   ],
   "source": [
    "newr = r.copy()\n",
    "newr[0] = 0\n",
    "newr[0].values[5,5] = 1\n",
    "\n",
    "targets = [[5,5]]\n",
    "\n",
    "newr.plot()"
   ]
  },
  {
   "cell_type": "code",
   "execution_count": 13,
   "metadata": {},
   "outputs": [
    {
     "data": {
      "text/plain": [
       "<matplotlib.collections.QuadMesh at 0x7f3006598e50>"
      ]
     },
     "execution_count": 13,
     "metadata": {},
     "output_type": "execute_result"
    },
    {
     "data": {
      "image/png": "[encoded data removed]",
      "text/plain": [
       "<Figure size 432x288 with 2 Axes>"
      ]
     },
     "metadata": {
      "needs_background": "light"
     },
     "output_type": "display_data"
    }
   ],
   "source": [
    "xlen = r[0].shape[0]\n",
    "ylen = r[0].shape[1]\n",
    "\n",
    "newrecords = targets.copy()\n",
    "for cell in targets:\n",
    "    x = cell[0]\n",
    "    y = cell[1]\n",
    "    for i in [-1, 0, 1]:\n",
    "        for j in [-1, 0, 1]:\n",
    "            if x + i < xlen and y + j < ylen and newr[0][x+i, y+j] == 0:\n",
    "                if r[0].values[x+i, y+j] > r[0].values[x, y]:\n",
    "                    newr[0].values[x+i, y+j] = 1\n",
    "                    newrecords.append([x+i, y+j])\n",
    "\n",
    "\n",
    "targets = newrecords\n",
    "# r.plot()\n",
    "newr.plot()"
   ]
  },
  {
   "cell_type": "code",
   "execution_count": null,
   "id": "2ff24fb7",
   "metadata": {},
   "outputs": [
    {
     "data": {
      "text/plain": [
       "(12, 681, 841)"
      ]
     },
     "metadata": {},
     "output_type": "display_data"
    }
   ],
   "source": [
    "nc.shape"
   ]
  },
  {
   "cell_type": "markdown",
   "metadata": {},
   "source": [
    "## New Cellular Automata"
   ]
  },
  {
   "cell_type": "code",
   "execution_count": 105,
   "metadata": {},
   "outputs": [],
   "source": [
    "import xarray as xr"
   ]
  },
  {
   "cell_type": "code",
   "execution_count": 173,
   "metadata": {},
   "outputs": [
    {
     "data": {
      "text/plain": [
       "20"
      ]
     },
     "execution_count": 173,
     "metadata": {},
     "output_type": "execute_result"
    }
   ],
   "source": [
    "cells = [1,0,1,0,0,0,0,1,0,1,1,1,0,0,0,1,1,1,0,0]\n",
    "len(cells)"
   ]
  },
  {
   "cell_type": "code",
   "execution_count": 174,
   "metadata": {},
   "outputs": [],
   "source": [
    "## just a simple rule for now\n",
    "def rules(a, b, c):\n",
    "    ruleset = [0,1,0,1,1,0,1,0]\n",
    "    if a == 1 and b == 1 and c == 1:\n",
    "        return ruleset[0]\n",
    "    elif a == 1 and b == 1 and c == 0:\n",
    "        return ruleset[1]\n",
    "    elif a == 1 and b == 0 and c == 1:\n",
    "        return ruleset[2]\n",
    "    elif a == 1 and b == 0 and c == 0:\n",
    "        return ruleset[3]\n",
    "    elif a == 0 and b == 1 and c == 1:\n",
    "        return ruleset[4]\n",
    "    elif a == 0 and b == 1 and c == 0:\n",
    "        return ruleset[5]\n",
    "    elif a == 0 and b == 0 and c == 1:\n",
    "        return ruleset[6]\n",
    "    elif a == 0 and b == 0 and c == 0:\n",
    "        return ruleset[7]  \n",
    "    else:\n",
    "        return 0"
   ]
  },
  {
   "cell_type": "code",
   "execution_count": null,
   "metadata": {},
   "outputs": [],
   "source": [
    "def rules(a, b, c):\n",
    "    ruleset = [0,1,1,1,1,0,1,1]\n",
    "\n",
    "    pn = str(a) + str(b) + str(c)\n",
    "    "
   ]
  },
  {
   "cell_type": "code",
   "execution_count": 185,
   "metadata": {},
   "outputs": [],
   "source": [
    "fullarray = []\n",
    "\n",
    "for j in range(20):\n",
    "\n",
    "    # create a list with the same length\n",
    "    newcells = [None] * len(cells)\n",
    "    newcells[0] = cells[0]\n",
    "    newcells[len(newcells) - 1] = cells[len(cells) -1]\n",
    "\n",
    "    # loop through the cells\n",
    "    for i in range(1, len(cells) -1 ):\n",
    "        left = cells[i-1]\n",
    "        middle = cells[i]\n",
    "        right = cells[i+1]\n",
    "\n",
    "        newstate = rules(left, middle, right)\n",
    "\n",
    "        newcells[i] = newstate\n",
    "\n",
    "    fullarray.append(newcells)\n",
    "\n",
    "    cells = newcells"
   ]
  },
  {
   "cell_type": "code",
   "execution_count": 186,
   "metadata": {},
   "outputs": [
    {
     "data": {
      "text/plain": [
       "<matplotlib.collections.QuadMesh at 0x7f61761614f0>"
      ]
     },
     "execution_count": 186,
     "metadata": {},
     "output_type": "execute_result"
    },
    {
     "data": {
      "image/png": "[encoded data removed]",
      "text/plain": [
       "<Figure size 432x288 with 2 Axes>"
      ]
     },
     "metadata": {
      "needs_background": "light"
     },
     "output_type": "display_data"
    }
   ],
   "source": [
    "xr.DataArray(fullarray).plot()"
   ]
  },
  {
   "cell_type": "code",
   "execution_count": 200,
   "metadata": {},
   "outputs": [
    {
     "data": {
      "text/plain": [
       "'011'"
      ]
     },
     "execution_count": 200,
     "metadata": {},
     "output_type": "execute_result"
    }
   ],
   "source": [
    "a = str(0) + str(1) + str(1)\n",
    "a"
   ]
  },
  {
   "cell_type": "code",
   "execution_count": 201,
   "metadata": {},
   "outputs": [
    {
     "data": {
      "text/plain": [
       "3"
      ]
     },
     "execution_count": 201,
     "metadata": {},
     "output_type": "execute_result"
    }
   ],
   "source": [
    "int(a, 2)"
   ]
  },
  {
   "cell_type": "markdown",
   "metadata": {},
   "source": [
    "### Game of life"
   ]
  },
  {
   "cell_type": "code",
   "execution_count": 538,
   "metadata": {},
   "outputs": [],
   "source": [
    "import numpy as np\n",
    "import xarray as xr"
   ]
  },
  {
   "cell_type": "code",
   "execution_count": 539,
   "metadata": {},
   "outputs": [
    {
     "data": {
      "text/plain": [
       "16"
      ]
     },
     "execution_count": 539,
     "metadata": {},
     "output_type": "execute_result"
    }
   ],
   "source": [
    "np.random.randint(0, xlen -1)"
   ]
  },
  {
   "cell_type": "code",
   "execution_count": 778,
   "metadata": {},
   "outputs": [
    {
     "data": {
      "text/plain": [
       "array([[0., 0.],\n",
       "       [0., 0.]])"
      ]
     },
     "execution_count": 778,
     "metadata": {},
     "output_type": "execute_result"
    }
   ],
   "source": [
    "xlen = 100\n",
    "ylen = 100\n",
    "cells = np.zeros((xlen, ylen))\n",
    "# cells[5:7, 5:7] = 1\n",
    "\n",
    "newcl = cells.copy()\n",
    "\n",
    "# craete random alive cells\n",
    "for i in range(1500):\n",
    "    cells[np.random.randint(0, xlen -1), np.random.randint(0, ylen -1)] = 1\n",
    "\n",
    "cells[5:7, 5:7]"
   ]
  },
  {
   "cell_type": "code",
   "execution_count": 779,
   "metadata": {},
   "outputs": [
    {
     "data": {
      "text/plain": [
       "<matplotlib.collections.QuadMesh at 0x7fc1230024f0>"
      ]
     },
     "execution_count": 779,
     "metadata": {},
     "output_type": "execute_result"
    },
    {
     "data": {
      "image/png": "[encoded data removed]",
      "text/plain": [
       "<Figure size 432x288 with 2 Axes>"
      ]
     },
     "metadata": {
      "needs_background": "light"
     },
     "output_type": "display_data"
    }
   ],
   "source": [
    "xr.DataArray(cells).plot()"
   ]
  },
  {
   "cell_type": "code",
   "execution_count": 842,
   "metadata": {},
   "outputs": [
    {
     "data": {
      "text/plain": [
       "<matplotlib.collections.QuadMesh at 0x7fc1205a5580>"
      ]
     },
     "execution_count": 842,
     "metadata": {},
     "output_type": "execute_result"
    },
    {
     "data": {
      "image/png": "[encoded data removed]",
      "text/plain": [
       "<Figure size 432x288 with 2 Axes>"
      ]
     },
     "metadata": {
      "needs_background": "light"
     },
     "output_type": "display_data"
    }
   ],
   "source": [
    "for x in range(xlen):\n",
    "    for y in range(ylen):\n",
    "        nb = []\n",
    "        for i in [-1, 0, 1]:\n",
    "            for j in [-1, 0, 1]:\n",
    "                if x + i < xlen and y + j < ylen:\n",
    "                    # only consider the neighbours\n",
    "                    if abs(i)+abs(j) > 0:\n",
    "                        nb.append(cells[x+i, y+j])\n",
    "        if cells[x, y] == 1 and sum(nb) >= 4:\n",
    "            newcl[x, y] = 0\n",
    "        if cells[x, y] == 1 and sum(nb) <= 1:\n",
    "            newcl[x, y] = 0\n",
    "        if cells[x, y] == 1 and sum(nb) == 3 or sum(nb) == 2:\n",
    "            newcl[x, y] = 1\n",
    "        if cells[x, y] == 0 and sum(nb) == 3:\n",
    "            newcl[x, y] = 1\n",
    "        if cells[x, y] == 0 and sum(nb) != 3:\n",
    "            newcl[x, y] = 0\n",
    "\n",
    "cells = newcl.copy()\n",
    "xr.DataArray(cells).plot()"
   ]
  },
  {
   "cell_type": "code",
   "execution_count": 849,
   "metadata": {},
   "outputs": [
    {
     "data": {
      "text/plain": [
       "6480.0"
      ]
     },
     "execution_count": 849,
     "metadata": {},
     "output_type": "execute_result"
    }
   ],
   "source": [
    "0.05 * 480 * 270"
   ]
  },
  {
   "cell_type": "markdown",
   "metadata": {},
   "source": [
    "## Game of life animation"
   ]
  },
  {
   "cell_type": "code",
   "execution_count": null,
   "metadata": {},
   "outputs": [],
   "source": [
    "import pygame, sys, random, time\n",
    "from pygame.locals import *\n",
    "import numpy as np\n",
    "\n",
    "session = True\n",
    "dimensions = (1200, 600)\n",
    "spacing = 0                         # Sets space between each cell\n",
    "cell_size = 4                       # Sets the drawn size of each cell\n",
    "frame_rate = 30\n",
    "start_time = time.time()\n",
    "\n",
    "cells_x = int(dimensions[0] / cell_size)\n",
    "cells_y = int(dimensions[1] / cell_size)\n",
    "cells = np.zeros((cells_x, cells_y))\n",
    "\n",
    "\n",
    "new = cells.copy()\n",
    "\n",
    "pygame.init()\n",
    "display = pygame.display.set_mode((cells_x*(cell_size+spacing), cells_y*(cell_size+spacing)))\n",
    "display.fill(pygame.Color(\"black\"))\n",
    "clock = pygame.time.Clock()\n",
    "\n",
    "def create_grid():\n",
    "    for i in range(10000):\n",
    "        cells[np.random.randint(0, cells_x - 1), np.random.randint(0, cells_y - 1)] = 1\n",
    "\n",
    "\n",
    "def growth():\n",
    "    for x in range(cells_x):\n",
    "        for y in range(cells_y):\n",
    "            nb = []\n",
    "            for i in [-1, 0, 1]:\n",
    "                for j in [-1, 0, 1]:\n",
    "                    if x + i < cells_x and y + j < cells_y:\n",
    "                        # only consider the neighbours\n",
    "                        if abs(i)+abs(j) > 0:\n",
    "                            nb.append(cells[x+i, y+j])\n",
    "            if cells[x, y] == 1 and sum(nb) >= 4:\n",
    "                new[x, y] = 0\n",
    "            if cells[x, y] == 1 and sum(nb) <= 1:\n",
    "                new[x, y] = 0\n",
    "            if cells[x, y] == 1 and sum(nb) == 3 or sum(nb) == 2:\n",
    "                new[x, y] = 1\n",
    "            if cells[x, y] == 0 and sum(nb) == 3:\n",
    "                new[x, y] = 1\n",
    "            if cells[x, y] == 0 and sum(nb) != 3:\n",
    "                new[x, y] = 0\n",
    "    # cells = new.copy()\n",
    "\n",
    "\n",
    "\n",
    "def draw():\n",
    "    for i in range(cells_x):\n",
    "        for j in range(cells_y):\n",
    "            if new[i][j] == 1:\n",
    "                pygame.draw.rect(display, (255, 255, 255),\n",
    "                                 (i * (cell_size + spacing), j * (cell_size + spacing), cell_size, cell_size), 0)\n",
    "            if new[i][j] == 0:\n",
    "                pygame.draw.rect(display, (70, 70, 70),\n",
    "                                 (i * (cell_size + spacing), j * (cell_size + spacing), cell_size, cell_size), 0)\n",
    "            cells[i][j] = new[i][j]\n",
    "    pygame.display.update()\n",
    "    clock.tick(frame_rate)\n",
    "\n",
    "def run_automaton():\n",
    "    generation = 1\n",
    "    create_grid()\n",
    "    while session:\n",
    "        pygame.display.set_caption('Predator and Prey: Generation {}  Time: {}'.format(str(generation), round(time.time() - start_time,2)))\n",
    "        display.fill(\"black\")\n",
    "        for event in pygame.event.get():\n",
    "            if event.type == pygame.QUIT:\n",
    "                pygame.quit(); sys.exit();\n",
    "\n",
    "        growth()\n",
    "        draw()\n",
    "        generation += 1\n",
    "\n",
    "if __name__ == \"__main__\":\n",
    "    run_automaton()"
   ]
  }
 ],
 "metadata": {
  "interpreter": {
   "hash": "ffc293bd170d7187767a6ae29ecba801f3600ba88de56bef16e350b33d54d713"
  },
  "kernelspec": {
   "display_name": "Python 3.9.10 ('venv': venv)",
   "language": "python",
   "name": "python3"
  },
  "language_info": {
   "codemirror_mode": {
    "name": "ipython",
    "version": 3
   },
   "file_extension": ".py",
   "mimetype": "text/x-python",
   "name": "python",
   "nbconvert_exporter": "python",
   "pygments_lexer": "ipython3",
   "version": "3.9.10"
  },
  "orig_nbformat": 4
 },
 "nbformat": 4,
 "nbformat_minor": 2
}
