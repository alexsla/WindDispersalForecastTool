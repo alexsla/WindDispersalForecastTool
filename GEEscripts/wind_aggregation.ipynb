{
 "cells": [
  {
   "cell_type": "code",
   "execution_count": 1,
   "id": "c78d3967",
   "metadata": {},
   "outputs": [],
   "source": [
    "import ee\n",
    "import wxee\n",
    "import hvplot.xarray\n",
    "import xarray\n",
    "\n",
    "wxee.Initialize()"
   ]
  },
  {
   "cell_type": "code",
   "execution_count": 2,
   "id": "a1c0c7cf",
   "metadata": {},
   "outputs": [],
   "source": [
    "dataset = ee.ImageCollection('NOAA/GFS0P25').filterDate('2021-01-01', '2021-01-03')"
   ]
  },
  {
   "cell_type": "code",
   "execution_count": null,
   "id": "d38733d9",
   "metadata": {},
   "outputs": [],
   "source": [
    "wind = dataset.select('u_component_of_wind_10m_above_ground')"
   ]
  },
  {
   "cell_type": "code",
   "execution_count": null,
   "id": "44186e76",
   "metadata": {},
   "outputs": [],
   "source": [
    "# get the number of year of data\n",
    "def datetime(image):\n",
    "    return ee.Feature(None, {'date': image.date().millis()}) # can be based on .format('YYYY-MM-DD HH-MM-SS')\n",
    "\n",
    "# get the list of years as a python list\n",
    "dates = wind.map(datetime).distinct('date').aggregate_array('date').getInfo()\n",
    "dates = [int(i) for i in dates]\n",
    "dates"
   ]
  },
  {
   "cell_type": "code",
   "execution_count": null,
   "id": "7c5f7235",
   "metadata": {},
   "outputs": [],
   "source": [
    "# a function to reduce/aggregate based on time\n",
    "def reduceByHour(m):\n",
    "    hh = int(ee.Date(m).format('HH').getInfo())\n",
    "    dd = int(ee.Date(m).format('DD').getInfo())\n",
    "    t1 = wind.filter(ee.Filter.calendarRange(dd, dd, 'day_of_month'))\n",
    "    t2 = t1.filter(ee.Filter.calendarRange(hh, hh, 'hour')).select(0)\n",
    "    return t2.mean().set('date', m)"
   ]
  },
  {
   "cell_type": "code",
   "execution_count": null,
   "id": "c273d929",
   "metadata": {},
   "outputs": [],
   "source": [
    "# convert python list to a gee list\n",
    "hours = ee.List(dates)\n",
    "\n",
    "hours.getInfo()"
   ]
  },
  {
   "cell_type": "code",
   "execution_count": null,
   "id": "6f48a247",
   "metadata": {},
   "outputs": [],
   "source": [
    "hrw = hours.map(reduceByHour)"
   ]
  }
 ],
 "metadata": {
  "kernelspec": {
   "display_name": "Python 3 (ipykernel)",
   "language": "python",
   "name": "python3"
  },
  "language_info": {
   "codemirror_mode": {
    "name": "ipython",
    "version": 3
   },
   "file_extension": ".py",
   "mimetype": "text/x-python",
   "name": "python",
   "nbconvert_exporter": "python",
   "pygments_lexer": "ipython3",
   "version": "3.9.10"
  }
 },
 "nbformat": 4,
 "nbformat_minor": 5
}
