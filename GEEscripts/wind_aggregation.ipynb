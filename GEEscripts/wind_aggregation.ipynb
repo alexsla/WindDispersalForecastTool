{
 "cells": [
  {
   "cell_type": "code",
   "execution_count": 1,
   "id": "c78d3967",
   "metadata": {},
   "outputs": [],
   "source": [
    "import ee\n",
    "\n",
    "ee.Initialize()"
   ]
  },
  {
   "cell_type": "code",
   "execution_count": 2,
   "id": "a1c0c7cf",
   "metadata": {},
   "outputs": [],
   "source": [
    "dataset = ee.ImageCollection('NOAA/GFS0P25').filterDate('2021-01-01', '2021-01-03')"
   ]
  },
  {
   "cell_type": "code",
   "execution_count": 3,
   "id": "d38733d9",
   "metadata": {},
   "outputs": [],
   "source": [
    "wind = dataset.select('u_component_of_wind_10m_above_ground')"
   ]
  },
  {
   "cell_type": "code",
   "execution_count": 4,
   "id": "382d9090",
   "metadata": {},
   "outputs": [
    {
     "data": {
      "text/plain": [
       "[1609459200000,\n",
       " 1609480800000,\n",
       " 1609502400000,\n",
       " 1609524000000,\n",
       " 1609545600000,\n",
       " 1609567200000,\n",
       " 1609588800000,\n",
       " 1609610400000]"
      ]
     },
     "execution_count": 4,
     "metadata": {},
     "output_type": "execute_result"
    }
   ],
   "source": [
    "# get the number of year of data\n",
    "def datetime(image):\n",
    "    return ee.Feature(None, {'date': image.date().millis()}) # can be based on .format('YYYY-MM-DD HH-MM-SS')\n",
    "\n",
    "# get the list of years as a python list\n",
    "dates = wind.map(datetime).distinct('date').aggregate_array('date').getInfo()\n",
    "dates = [int(i) for i in dates]\n",
    "dates"
   ]
  },
  {
   "cell_type": "code",
   "execution_count": 14,
   "id": "b2a60dd6",
   "metadata": {},
   "outputs": [
    {
     "data": {
      "text/plain": [
       "[1609459200000,\n",
       " 1609480800000,\n",
       " 1609502400000,\n",
       " 1609524000000,\n",
       " 1609545600000,\n",
       " 1609567200000,\n",
       " 1609588800000,\n",
       " 1609610400000]"
      ]
     },
     "execution_count": 14,
     "metadata": {},
     "output_type": "execute_result"
    }
   ],
   "source": [
    "# convert python list to a gee list\n",
    "hours = ee.List(dates)\n",
    "\n",
    "hours.getInfo()"
   ]
  },
  {
   "cell_type": "code",
   "execution_count": 38,
   "id": "370097ac",
   "metadata": {},
   "outputs": [],
   "source": [
    "# a function to reduce/aggregate based on time\n",
    "def reduceByHour(m):\n",
    "    hh = ee.Number.parse(ee.Date(m).format('HH'))\n",
    "    dd = ee.Number.parse(ee.Date(m).format('DD'))\n",
    "    t1 = wind.filter(ee.Filter.calendarRange(dd, dd, 'day_of_month'))\n",
    "    t2 = t1.filter(ee.Filter.calendarRange(hh, hh, 'hour')).select(0)\n",
    "    return t2.mean().set('date', m)"
   ]
  },
  {
   "cell_type": "code",
   "execution_count": 40,
   "id": "40af8091",
   "metadata": {},
   "outputs": [
    {
     "data": {
      "text/plain": [
       "<ee.ee_list.List at 0x7ffb32208940>"
      ]
     },
     "execution_count": 40,
     "metadata": {},
     "output_type": "execute_result"
    }
   ],
   "source": [
    "hours.map(reduceByHour)"
   ]
  },
  {
   "cell_type": "code",
   "execution_count": null,
   "id": "28b74ecf",
   "metadata": {},
   "outputs": [],
   "source": []
  }
 ],
 "metadata": {
  "kernelspec": {
   "display_name": "Python 3 (ipykernel)",
   "language": "python",
   "name": "python3"
  },
  "language_info": {
   "codemirror_mode": {
    "name": "ipython",
    "version": 3
   },
   "file_extension": ".py",
   "mimetype": "text/x-python",
   "name": "python",
   "nbconvert_exporter": "python",
   "pygments_lexer": "ipython3",
   "version": "3.9.10"
  }
 },
 "nbformat": 4,
 "nbformat_minor": 5
}
