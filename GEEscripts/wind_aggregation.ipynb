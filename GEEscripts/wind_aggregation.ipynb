{
 "cells": [
  {
   "cell_type": "code",
   "execution_count": 1,
   "id": "c78d3967",
   "metadata": {},
   "outputs": [],
   "source": [
    "import ee\n",
    "\n",
    "ee.Initialize()"
   ]
  },
  {
   "cell_type": "code",
   "execution_count": 2,
   "id": "a1c0c7cf",
   "metadata": {},
   "outputs": [],
   "source": [
    "dataset = ee.ImageCollection('NOAA/GFS0P25').filterDate('2021-01-01', '2021-01-03')"
   ]
  },
  {
   "cell_type": "code",
   "execution_count": 3,
   "id": "d38733d9",
   "metadata": {},
   "outputs": [],
   "source": [
    "wind = dataset.select('u_component_of_wind_10m_above_ground')"
   ]
  },
  {
   "cell_type": "code",
   "execution_count": 4,
   "id": "71045ace",
   "metadata": {},
   "outputs": [
    {
     "data": {
      "text/plain": [
       "[1609459200000,\n",
       " 1609480800000,\n",
       " 1609502400000,\n",
       " 1609524000000,\n",
       " 1609545600000,\n",
       " 1609567200000,\n",
       " 1609588800000,\n",
       " 1609610400000]"
      ]
     },
     "execution_count": 4,
     "metadata": {},
     "output_type": "execute_result"
    }
   ],
   "source": [
    "# get the number of year of data\n",
    "def datetime(image):\n",
    "    return ee.Feature(None, {'date': image.date().millis()}) # can be based on .format('YYYY-MM-DD HH-MM-SS')\n",
    "\n",
    "# get the list of years as a python list\n",
    "dates = wind.map(datetime).distinct('date').aggregate_array('date').getInfo()\n",
    "dates = [int(i) for i in dates]\n",
    "dates"
   ]
  },
  {
   "cell_type": "code",
   "execution_count": 5,
   "id": "0000a449",
   "metadata": {},
   "outputs": [],
   "source": [
    "# a function to reduce/aggregate based on time\n",
    "def reduceByHour(m):\n",
    "    hh = int(ee.Date(m).format('HH').getInfo())\n",
    "    dd = int(ee.Date(m).format('DD').getInfo())\n",
    "    t1 = wind.filter(ee.Filter.calendarRange(dd, dd, 'day_of_month'))\n",
    "    t2 = t1.filter(ee.Filter.calendarRange(hh, hh, 'hour')).select(0)\n",
    "    return t2.mean().set('date', m)"
   ]
  },
  {
   "cell_type": "code",
   "execution_count": 6,
   "id": "0bb9e492",
   "metadata": {},
   "outputs": [
    {
     "data": {
      "text/plain": [
       "[1609459200000,\n",
       " 1609480800000,\n",
       " 1609502400000,\n",
       " 1609524000000,\n",
       " 1609545600000,\n",
       " 1609567200000,\n",
       " 1609588800000,\n",
       " 1609610400000]"
      ]
     },
     "execution_count": 6,
     "metadata": {},
     "output_type": "execute_result"
    }
   ],
   "source": [
    "# convert python list to a gee list\n",
    "hours = ee.List(dates)\n",
    "\n",
    "hours.getInfo()"
   ]
  },
  {
   "cell_type": "code",
   "execution_count": 7,
   "id": "1b923a72",
   "metadata": {},
   "outputs": [
    {
     "ename": "EEException",
     "evalue": "ValueNode is empty",
     "output_type": "error",
     "traceback": [
      "\u001b[0;31m---------------------------------------------------------------------------\u001b[0m",
      "\u001b[0;31mHttpError\u001b[0m                                 Traceback (most recent call last)",
      "File \u001b[0;32m~/miniconda3/envs/spatial/lib/python3.9/site-packages/ee/data.py:334\u001b[0m, in \u001b[0;36m_execute_cloud_call\u001b[0;34m(call, num_retries)\u001b[0m\n\u001b[1;32m    333\u001b[0m \u001b[38;5;28;01mtry\u001b[39;00m:\n\u001b[0;32m--> 334\u001b[0m   \u001b[38;5;28;01mreturn\u001b[39;00m \u001b[43mcall\u001b[49m\u001b[38;5;241;43m.\u001b[39;49m\u001b[43mexecute\u001b[49m\u001b[43m(\u001b[49m\u001b[43mnum_retries\u001b[49m\u001b[38;5;241;43m=\u001b[39;49m\u001b[43mnum_retries\u001b[49m\u001b[43m)\u001b[49m\n\u001b[1;32m    335\u001b[0m \u001b[38;5;28;01mexcept\u001b[39;00m googleapiclient\u001b[38;5;241m.\u001b[39merrors\u001b[38;5;241m.\u001b[39mHttpError \u001b[38;5;28;01mas\u001b[39;00m e:\n",
      "File \u001b[0;32m~/miniconda3/envs/spatial/lib/python3.9/site-packages/googleapiclient/_helpers.py:134\u001b[0m, in \u001b[0;36mpositional.<locals>.positional_decorator.<locals>.positional_wrapper\u001b[0;34m(*args, **kwargs)\u001b[0m\n\u001b[1;32m    133\u001b[0m         logger\u001b[38;5;241m.\u001b[39mwarning(message)\n\u001b[0;32m--> 134\u001b[0m \u001b[38;5;28;01mreturn\u001b[39;00m \u001b[43mwrapped\u001b[49m\u001b[43m(\u001b[49m\u001b[38;5;241;43m*\u001b[39;49m\u001b[43margs\u001b[49m\u001b[43m,\u001b[49m\u001b[43m \u001b[49m\u001b[38;5;241;43m*\u001b[39;49m\u001b[38;5;241;43m*\u001b[39;49m\u001b[43mkwargs\u001b[49m\u001b[43m)\u001b[49m\n",
      "File \u001b[0;32m~/miniconda3/envs/spatial/lib/python3.9/site-packages/googleapiclient/http.py:915\u001b[0m, in \u001b[0;36mHttpRequest.execute\u001b[0;34m(self, http, num_retries)\u001b[0m\n\u001b[1;32m    914\u001b[0m \u001b[38;5;28;01mif\u001b[39;00m resp\u001b[38;5;241m.\u001b[39mstatus \u001b[38;5;241m>\u001b[39m\u001b[38;5;241m=\u001b[39m \u001b[38;5;241m300\u001b[39m:\n\u001b[0;32m--> 915\u001b[0m     \u001b[38;5;28;01mraise\u001b[39;00m HttpError(resp, content, uri\u001b[38;5;241m=\u001b[39m\u001b[38;5;28mself\u001b[39m\u001b[38;5;241m.\u001b[39muri)\n\u001b[1;32m    916\u001b[0m \u001b[38;5;28;01mreturn\u001b[39;00m \u001b[38;5;28mself\u001b[39m\u001b[38;5;241m.\u001b[39mpostproc(resp, content)\n",
      "\u001b[0;31mHttpError\u001b[0m: <HttpError 400 when requesting https://earthengine.googleapis.com/v1alpha/projects/earthengine-legacy/value:compute?prettyPrint=false&alt=json returned \"ValueNode is empty\". Details: \"ValueNode is empty\">",
      "\nDuring handling of the above exception, another exception occurred:\n",
      "\u001b[0;31mEEException\u001b[0m                               Traceback (most recent call last)",
      "Input \u001b[0;32mIn [7]\u001b[0m, in \u001b[0;36m<module>\u001b[0;34m\u001b[0m\n\u001b[0;32m----> 1\u001b[0m hrw \u001b[38;5;241m=\u001b[39m \u001b[43mhours\u001b[49m\u001b[38;5;241;43m.\u001b[39;49m\u001b[43mmap\u001b[49m\u001b[43m(\u001b[49m\u001b[43mreduceByHour\u001b[49m\u001b[43m)\u001b[49m\n",
      "File \u001b[0;32m~/miniconda3/envs/spatial/lib/python3.9/site-packages/ee/apifunction.py:205\u001b[0m, in \u001b[0;36mApiFunction.importApi.<locals>.MakeBoundFunction.<locals>.<lambda>\u001b[0;34m(*args, **kwargs)\u001b[0m\n\u001b[1;32m    203\u001b[0m \u001b[38;5;28;01mdef\u001b[39;00m \u001b[38;5;21mMakeBoundFunction\u001b[39m(func):\n\u001b[1;32m    204\u001b[0m   \u001b[38;5;66;03m# We need the lambda to capture \"func\" from the enclosing scope.\u001b[39;00m\n\u001b[0;32m--> 205\u001b[0m   \u001b[38;5;28;01mreturn\u001b[39;00m \u001b[38;5;28;01mlambda\u001b[39;00m \u001b[38;5;241m*\u001b[39margs, \u001b[38;5;241m*\u001b[39m\u001b[38;5;241m*\u001b[39mkwargs: \u001b[43mfunc\u001b[49m\u001b[38;5;241;43m.\u001b[39;49m\u001b[43mcall\u001b[49m\u001b[43m(\u001b[49m\u001b[38;5;241;43m*\u001b[39;49m\u001b[43margs\u001b[49m\u001b[43m,\u001b[49m\u001b[43m \u001b[49m\u001b[38;5;241;43m*\u001b[39;49m\u001b[38;5;241;43m*\u001b[39;49m\u001b[43mkwargs\u001b[49m\u001b[43m)\u001b[49m\n",
      "File \u001b[0;32m~/miniconda3/envs/spatial/lib/python3.9/site-packages/ee/function.py:67\u001b[0m, in \u001b[0;36mFunction.call\u001b[0;34m(self, *args, **kwargs)\u001b[0m\n\u001b[1;32m     55\u001b[0m \u001b[38;5;28;01mdef\u001b[39;00m \u001b[38;5;21mcall\u001b[39m(\u001b[38;5;28mself\u001b[39m, \u001b[38;5;241m*\u001b[39margs, \u001b[38;5;241m*\u001b[39m\u001b[38;5;241m*\u001b[39mkwargs):\n\u001b[1;32m     56\u001b[0m   \u001b[38;5;124;03m\"\"\"Calls the function with the given positional and keyword arguments.\u001b[39;00m\n\u001b[1;32m     57\u001b[0m \n\u001b[1;32m     58\u001b[0m \u001b[38;5;124;03m  Args:\u001b[39;00m\n\u001b[0;32m   (...)\u001b[0m\n\u001b[1;32m     65\u001b[0m \u001b[38;5;124;03m    to that type.\u001b[39;00m\n\u001b[1;32m     66\u001b[0m \u001b[38;5;124;03m  \"\"\"\u001b[39;00m\n\u001b[0;32m---> 67\u001b[0m   \u001b[38;5;28;01mreturn\u001b[39;00m \u001b[38;5;28;43mself\u001b[39;49m\u001b[38;5;241;43m.\u001b[39;49m\u001b[43mapply\u001b[49m\u001b[43m(\u001b[49m\u001b[38;5;28;43mself\u001b[39;49m\u001b[38;5;241;43m.\u001b[39;49m\u001b[43mnameArgs\u001b[49m\u001b[43m(\u001b[49m\u001b[43margs\u001b[49m\u001b[43m,\u001b[49m\u001b[43m \u001b[49m\u001b[43mkwargs\u001b[49m\u001b[43m)\u001b[49m\u001b[43m)\u001b[49m\n",
      "File \u001b[0;32m~/miniconda3/envs/spatial/lib/python3.9/site-packages/ee/function.py:80\u001b[0m, in \u001b[0;36mFunction.apply\u001b[0;34m(self, named_args)\u001b[0m\n\u001b[1;32m     69\u001b[0m \u001b[38;5;28;01mdef\u001b[39;00m \u001b[38;5;21mapply\u001b[39m(\u001b[38;5;28mself\u001b[39m, named_args):\n\u001b[1;32m     70\u001b[0m   \u001b[38;5;124;03m\"\"\"Calls the function with a dictionary of named arguments.\u001b[39;00m\n\u001b[1;32m     71\u001b[0m \n\u001b[1;32m     72\u001b[0m \u001b[38;5;124;03m  Args:\u001b[39;00m\n\u001b[0;32m   (...)\u001b[0m\n\u001b[1;32m     78\u001b[0m \u001b[38;5;124;03m    to that type.\u001b[39;00m\n\u001b[1;32m     79\u001b[0m \u001b[38;5;124;03m  \"\"\"\u001b[39;00m\n\u001b[0;32m---> 80\u001b[0m   result \u001b[38;5;241m=\u001b[39m computedobject\u001b[38;5;241m.\u001b[39mComputedObject(\u001b[38;5;28mself\u001b[39m, \u001b[38;5;28;43mself\u001b[39;49m\u001b[38;5;241;43m.\u001b[39;49m\u001b[43mpromoteArgs\u001b[49m\u001b[43m(\u001b[49m\u001b[43mnamed_args\u001b[49m\u001b[43m)\u001b[49m)\n\u001b[1;32m     81\u001b[0m   \u001b[38;5;28;01mreturn\u001b[39;00m Function\u001b[38;5;241m.\u001b[39m_promoter(result, \u001b[38;5;28mself\u001b[39m\u001b[38;5;241m.\u001b[39mgetReturnType())\n",
      "File \u001b[0;32m~/miniconda3/envs/spatial/lib/python3.9/site-packages/ee/function.py:107\u001b[0m, in \u001b[0;36mFunction.promoteArgs\u001b[0;34m(self, args)\u001b[0m\n\u001b[1;32m    105\u001b[0m name \u001b[38;5;241m=\u001b[39m spec[\u001b[38;5;124m'\u001b[39m\u001b[38;5;124mname\u001b[39m\u001b[38;5;124m'\u001b[39m]\n\u001b[1;32m    106\u001b[0m \u001b[38;5;28;01mif\u001b[39;00m name \u001b[38;5;129;01min\u001b[39;00m args:\n\u001b[0;32m--> 107\u001b[0m   promoted_args[name] \u001b[38;5;241m=\u001b[39m \u001b[43mFunction\u001b[49m\u001b[38;5;241;43m.\u001b[39;49m\u001b[43m_promoter\u001b[49m\u001b[43m(\u001b[49m\u001b[43margs\u001b[49m\u001b[43m[\u001b[49m\u001b[43mname\u001b[49m\u001b[43m]\u001b[49m\u001b[43m,\u001b[49m\u001b[43m \u001b[49m\u001b[43mspec\u001b[49m\u001b[43m[\u001b[49m\u001b[38;5;124;43m'\u001b[39;49m\u001b[38;5;124;43mtype\u001b[39;49m\u001b[38;5;124;43m'\u001b[39;49m\u001b[43m]\u001b[49m\u001b[43m)\u001b[49m\n\u001b[1;32m    108\u001b[0m \u001b[38;5;28;01melif\u001b[39;00m \u001b[38;5;129;01mnot\u001b[39;00m spec\u001b[38;5;241m.\u001b[39mget(\u001b[38;5;124m'\u001b[39m\u001b[38;5;124moptional\u001b[39m\u001b[38;5;124m'\u001b[39m):\n\u001b[1;32m    109\u001b[0m   \u001b[38;5;28;01mraise\u001b[39;00m ee_exception\u001b[38;5;241m.\u001b[39mEEException(\n\u001b[1;32m    110\u001b[0m       \u001b[38;5;124m'\u001b[39m\u001b[38;5;124mRequired argument (\u001b[39m\u001b[38;5;132;01m%s\u001b[39;00m\u001b[38;5;124m) missing to function: \u001b[39m\u001b[38;5;132;01m%s\u001b[39;00m\u001b[38;5;124m'\u001b[39m \u001b[38;5;241m%\u001b[39m (name, \u001b[38;5;28mself\u001b[39m))\n",
      "File \u001b[0;32m~/miniconda3/envs/spatial/lib/python3.9/site-packages/ee/__init__.py:245\u001b[0m, in \u001b[0;36m_Promote\u001b[0;34m(arg, klass)\u001b[0m\n\u001b[1;32m    243\u001b[0m   \u001b[38;5;28;01melse\u001b[39;00m:\n\u001b[1;32m    244\u001b[0m     args_count \u001b[38;5;241m=\u001b[39m \u001b[38;5;28mlen\u001b[39m(inspect\u001b[38;5;241m.\u001b[39mgetfullargspec(arg)\u001b[38;5;241m.\u001b[39margs)\n\u001b[0;32m--> 245\u001b[0m   \u001b[38;5;28;01mreturn\u001b[39;00m \u001b[43mCustomFunction\u001b[49m\u001b[38;5;241;43m.\u001b[39;49m\u001b[43mcreate\u001b[49m\u001b[43m(\u001b[49m\u001b[43marg\u001b[49m\u001b[43m,\u001b[49m\u001b[43m \u001b[49m\u001b[38;5;124;43m'\u001b[39;49m\u001b[38;5;124;43mObject\u001b[39;49m\u001b[38;5;124;43m'\u001b[39;49m\u001b[43m,\u001b[49m\u001b[43m \u001b[49m\u001b[43m[\u001b[49m\u001b[38;5;124;43m'\u001b[39;49m\u001b[38;5;124;43mObject\u001b[39;49m\u001b[38;5;124;43m'\u001b[39;49m\u001b[43m]\u001b[49m\u001b[43m \u001b[49m\u001b[38;5;241;43m*\u001b[39;49m\u001b[43m \u001b[49m\u001b[43margs_count\u001b[49m\u001b[43m)\u001b[49m\n\u001b[1;32m    246\u001b[0m \u001b[38;5;28;01melif\u001b[39;00m \u001b[38;5;28misinstance\u001b[39m(arg, Encodable):\n\u001b[1;32m    247\u001b[0m   \u001b[38;5;66;03m# An ee.Function or a computed function like the return value of\u001b[39;00m\n\u001b[1;32m    248\u001b[0m   \u001b[38;5;66;03m# Image.parseExpression().\u001b[39;00m\n\u001b[1;32m    249\u001b[0m   \u001b[38;5;28;01mreturn\u001b[39;00m arg\n",
      "File \u001b[0;32m~/miniconda3/envs/spatial/lib/python3.9/site-packages/ee/customfunction.py:121\u001b[0m, in \u001b[0;36mCustomFunction.create\u001b[0;34m(func, return_type, arg_types)\u001b[0m\n\u001b[1;32m    115\u001b[0m args \u001b[38;5;241m=\u001b[39m [{\u001b[38;5;124m'\u001b[39m\u001b[38;5;124mname\u001b[39m\u001b[38;5;124m'\u001b[39m: \u001b[38;5;28;01mNone\u001b[39;00m, \u001b[38;5;124m'\u001b[39m\u001b[38;5;124mtype\u001b[39m\u001b[38;5;124m'\u001b[39m: StringifyType(i)} \u001b[38;5;28;01mfor\u001b[39;00m i \u001b[38;5;129;01min\u001b[39;00m arg_types]\n\u001b[1;32m    116\u001b[0m signature \u001b[38;5;241m=\u001b[39m {\n\u001b[1;32m    117\u001b[0m     \u001b[38;5;124m'\u001b[39m\u001b[38;5;124mname\u001b[39m\u001b[38;5;124m'\u001b[39m: \u001b[38;5;124m'\u001b[39m\u001b[38;5;124m'\u001b[39m,\n\u001b[1;32m    118\u001b[0m     \u001b[38;5;124m'\u001b[39m\u001b[38;5;124mreturns\u001b[39m\u001b[38;5;124m'\u001b[39m: StringifyType(return_type),\n\u001b[1;32m    119\u001b[0m     \u001b[38;5;124m'\u001b[39m\u001b[38;5;124margs\u001b[39m\u001b[38;5;124m'\u001b[39m: args\n\u001b[1;32m    120\u001b[0m }\n\u001b[0;32m--> 121\u001b[0m \u001b[38;5;28;01mreturn\u001b[39;00m \u001b[43mCustomFunction\u001b[49m\u001b[43m(\u001b[49m\u001b[43msignature\u001b[49m\u001b[43m,\u001b[49m\u001b[43m \u001b[49m\u001b[43mfunc\u001b[49m\u001b[43m)\u001b[49m\n",
      "File \u001b[0;32m~/miniconda3/envs/spatial/lib/python3.9/site-packages/ee/customfunction.py:43\u001b[0m, in \u001b[0;36mCustomFunction.__init__\u001b[0;34m(self, signature, body)\u001b[0m\n\u001b[1;32m     39\u001b[0m variables \u001b[38;5;241m=\u001b[39m [CustomFunction\u001b[38;5;241m.\u001b[39mvariable(arg[\u001b[38;5;124m'\u001b[39m\u001b[38;5;124mtype\u001b[39m\u001b[38;5;124m'\u001b[39m], arg[\u001b[38;5;124m'\u001b[39m\u001b[38;5;124mname\u001b[39m\u001b[38;5;124m'\u001b[39m])\n\u001b[1;32m     40\u001b[0m              \u001b[38;5;28;01mfor\u001b[39;00m arg \u001b[38;5;129;01min\u001b[39;00m signature[\u001b[38;5;124m'\u001b[39m\u001b[38;5;124margs\u001b[39m\u001b[38;5;124m'\u001b[39m]]\n\u001b[1;32m     42\u001b[0m \u001b[38;5;66;03m# The signature of the function.\u001b[39;00m\n\u001b[0;32m---> 43\u001b[0m \u001b[38;5;28mself\u001b[39m\u001b[38;5;241m.\u001b[39m_signature \u001b[38;5;241m=\u001b[39m \u001b[43mCustomFunction\u001b[49m\u001b[38;5;241;43m.\u001b[39;49m\u001b[43m_resolveNamelessArgs\u001b[49m\u001b[43m(\u001b[49m\n\u001b[1;32m     44\u001b[0m \u001b[43m    \u001b[49m\u001b[43msignature\u001b[49m\u001b[43m,\u001b[49m\u001b[43m \u001b[49m\u001b[43mvariables\u001b[49m\u001b[43m,\u001b[49m\u001b[43m \u001b[49m\u001b[43mbody\u001b[49m\u001b[43m)\u001b[49m\n\u001b[1;32m     46\u001b[0m \u001b[38;5;66;03m# The expression to evaluate.\u001b[39;00m\n\u001b[1;32m     47\u001b[0m \u001b[38;5;28mself\u001b[39m\u001b[38;5;241m.\u001b[39m_body \u001b[38;5;241m=\u001b[39m body(\u001b[38;5;241m*\u001b[39mvariables)\n",
      "File \u001b[0;32m~/miniconda3/envs/spatial/lib/python3.9/site-packages/ee/customfunction.py:166\u001b[0m, in \u001b[0;36mCustomFunction._resolveNamelessArgs\u001b[0;34m(signature, variables, body)\u001b[0m\n\u001b[1;32m    163\u001b[0m     \u001b[38;5;28;01mreturn\u001b[39;00m \u001b[38;5;241m0\u001b[39m\n\u001b[1;32m    164\u001b[0m   \u001b[38;5;28;01mreturn\u001b[39;00m CountNodes(six\u001b[38;5;241m.\u001b[39mitervalues(expression[\u001b[38;5;124m'\u001b[39m\u001b[38;5;124mvalues\u001b[39m\u001b[38;5;124m'\u001b[39m]))\n\u001b[0;32m--> 166\u001b[0m serialized_body \u001b[38;5;241m=\u001b[39m serializer\u001b[38;5;241m.\u001b[39mencode(\u001b[43mbody\u001b[49m\u001b[43m(\u001b[49m\u001b[38;5;241;43m*\u001b[39;49m\u001b[43mvariables\u001b[49m\u001b[43m)\u001b[49m, for_cloud_api\u001b[38;5;241m=\u001b[39m\u001b[38;5;28;01mTrue\u001b[39;00m)\n\u001b[1;32m    167\u001b[0m base_name \u001b[38;5;241m=\u001b[39m \u001b[38;5;124m'\u001b[39m\u001b[38;5;124m_MAPPING_VAR_\u001b[39m\u001b[38;5;132;01m%d\u001b[39;00m\u001b[38;5;124m_\u001b[39m\u001b[38;5;124m'\u001b[39m \u001b[38;5;241m%\u001b[39m CountFunctions(serialized_body)\n\u001b[1;32m    169\u001b[0m \u001b[38;5;66;03m# Update the vars and signature by the name.\u001b[39;00m\n",
      "Input \u001b[0;32mIn [5]\u001b[0m, in \u001b[0;36mreduceByHour\u001b[0;34m(m)\u001b[0m\n\u001b[1;32m      2\u001b[0m \u001b[38;5;28;01mdef\u001b[39;00m \u001b[38;5;21mreduceByHour\u001b[39m(m):\n\u001b[0;32m----> 3\u001b[0m     hh \u001b[38;5;241m=\u001b[39m \u001b[38;5;28mint\u001b[39m(\u001b[43mee\u001b[49m\u001b[38;5;241;43m.\u001b[39;49m\u001b[43mDate\u001b[49m\u001b[43m(\u001b[49m\u001b[43mm\u001b[49m\u001b[43m)\u001b[49m\u001b[38;5;241;43m.\u001b[39;49m\u001b[43mformat\u001b[49m\u001b[43m(\u001b[49m\u001b[38;5;124;43m'\u001b[39;49m\u001b[38;5;124;43mHH\u001b[39;49m\u001b[38;5;124;43m'\u001b[39;49m\u001b[43m)\u001b[49m\u001b[38;5;241;43m.\u001b[39;49m\u001b[43mgetInfo\u001b[49m\u001b[43m(\u001b[49m\u001b[43m)\u001b[49m)\n\u001b[1;32m      4\u001b[0m     dd \u001b[38;5;241m=\u001b[39m \u001b[38;5;28mint\u001b[39m(ee\u001b[38;5;241m.\u001b[39mDate(m)\u001b[38;5;241m.\u001b[39mformat(\u001b[38;5;124m'\u001b[39m\u001b[38;5;124mDD\u001b[39m\u001b[38;5;124m'\u001b[39m)\u001b[38;5;241m.\u001b[39mgetInfo())\n\u001b[1;32m      5\u001b[0m     t1 \u001b[38;5;241m=\u001b[39m wind\u001b[38;5;241m.\u001b[39mfilter(ee\u001b[38;5;241m.\u001b[39mFilter\u001b[38;5;241m.\u001b[39mcalendarRange(dd, dd, \u001b[38;5;124m'\u001b[39m\u001b[38;5;124mday_of_month\u001b[39m\u001b[38;5;124m'\u001b[39m))\n",
      "File \u001b[0;32m~/miniconda3/envs/spatial/lib/python3.9/site-packages/ee/computedobject.py:98\u001b[0m, in \u001b[0;36mComputedObject.getInfo\u001b[0;34m(self)\u001b[0m\n\u001b[1;32m     92\u001b[0m \u001b[38;5;28;01mdef\u001b[39;00m \u001b[38;5;21mgetInfo\u001b[39m(\u001b[38;5;28mself\u001b[39m):\n\u001b[1;32m     93\u001b[0m   \u001b[38;5;124;03m\"\"\"Fetch and return information about this object.\u001b[39;00m\n\u001b[1;32m     94\u001b[0m \n\u001b[1;32m     95\u001b[0m \u001b[38;5;124;03m  Returns:\u001b[39;00m\n\u001b[1;32m     96\u001b[0m \u001b[38;5;124;03m    The object can evaluate to anything.\u001b[39;00m\n\u001b[1;32m     97\u001b[0m \u001b[38;5;124;03m  \"\"\"\u001b[39;00m\n\u001b[0;32m---> 98\u001b[0m   \u001b[38;5;28;01mreturn\u001b[39;00m \u001b[43mdata\u001b[49m\u001b[38;5;241;43m.\u001b[39;49m\u001b[43mcomputeValue\u001b[49m\u001b[43m(\u001b[49m\u001b[38;5;28;43mself\u001b[39;49m\u001b[43m)\u001b[49m\n",
      "File \u001b[0;32m~/miniconda3/envs/spatial/lib/python3.9/site-packages/ee/data.py:674\u001b[0m, in \u001b[0;36mcomputeValue\u001b[0;34m(obj)\u001b[0m\n\u001b[1;32m    665\u001b[0m \u001b[38;5;28;01mdef\u001b[39;00m \u001b[38;5;21mcomputeValue\u001b[39m(obj):\n\u001b[1;32m    666\u001b[0m   \u001b[38;5;124;03m\"\"\"Sends a request to compute a value.\u001b[39;00m\n\u001b[1;32m    667\u001b[0m \n\u001b[1;32m    668\u001b[0m \u001b[38;5;124;03m  Args:\u001b[39;00m\n\u001b[0;32m   (...)\u001b[0m\n\u001b[1;32m    672\u001b[0m \u001b[38;5;124;03m    The result of evaluating that object on the server.\u001b[39;00m\n\u001b[1;32m    673\u001b[0m \u001b[38;5;124;03m  \"\"\"\u001b[39;00m\n\u001b[0;32m--> 674\u001b[0m   \u001b[38;5;28;01mreturn\u001b[39;00m \u001b[43m_execute_cloud_call\u001b[49m\u001b[43m(\u001b[49m\n\u001b[1;32m    675\u001b[0m \u001b[43m      \u001b[49m\u001b[43m_get_cloud_api_resource\u001b[49m\u001b[43m(\u001b[49m\u001b[43m)\u001b[49m\u001b[38;5;241;43m.\u001b[39;49m\u001b[43mprojects\u001b[49m\u001b[43m(\u001b[49m\u001b[43m)\u001b[49m\u001b[38;5;241;43m.\u001b[39;49m\u001b[43mvalue\u001b[49m\u001b[43m(\u001b[49m\u001b[43m)\u001b[49m\u001b[38;5;241;43m.\u001b[39;49m\u001b[43mcompute\u001b[49m\u001b[43m(\u001b[49m\n\u001b[1;32m    676\u001b[0m \u001b[43m          \u001b[49m\u001b[43mbody\u001b[49m\u001b[38;5;241;43m=\u001b[39;49m\u001b[43m{\u001b[49m\u001b[38;5;124;43m'\u001b[39;49m\u001b[38;5;124;43mexpression\u001b[39;49m\u001b[38;5;124;43m'\u001b[39;49m\u001b[43m:\u001b[49m\u001b[43m \u001b[49m\u001b[43mserializer\u001b[49m\u001b[38;5;241;43m.\u001b[39;49m\u001b[43mencode\u001b[49m\u001b[43m(\u001b[49m\u001b[43mobj\u001b[49m\u001b[43m,\u001b[49m\u001b[43m \u001b[49m\u001b[43mfor_cloud_api\u001b[49m\u001b[38;5;241;43m=\u001b[39;49m\u001b[38;5;28;43;01mTrue\u001b[39;49;00m\u001b[43m)\u001b[49m\u001b[43m}\u001b[49m\u001b[43m,\u001b[49m\n\u001b[1;32m    677\u001b[0m \u001b[43m          \u001b[49m\u001b[43mproject\u001b[49m\u001b[38;5;241;43m=\u001b[39;49m\u001b[43m_get_projects_path\u001b[49m\u001b[43m(\u001b[49m\u001b[43m)\u001b[49m\u001b[43m,\u001b[49m\n\u001b[1;32m    678\u001b[0m \u001b[43m          \u001b[49m\u001b[43mprettyPrint\u001b[49m\u001b[38;5;241;43m=\u001b[39;49m\u001b[38;5;28;43;01mFalse\u001b[39;49;00m\u001b[43m)\u001b[49m\u001b[43m)\u001b[49m[\u001b[38;5;124m'\u001b[39m\u001b[38;5;124mresult\u001b[39m\u001b[38;5;124m'\u001b[39m]\n",
      "File \u001b[0;32m~/miniconda3/envs/spatial/lib/python3.9/site-packages/ee/data.py:336\u001b[0m, in \u001b[0;36m_execute_cloud_call\u001b[0;34m(call, num_retries)\u001b[0m\n\u001b[1;32m    334\u001b[0m   \u001b[38;5;28;01mreturn\u001b[39;00m call\u001b[38;5;241m.\u001b[39mexecute(num_retries\u001b[38;5;241m=\u001b[39mnum_retries)\n\u001b[1;32m    335\u001b[0m \u001b[38;5;28;01mexcept\u001b[39;00m googleapiclient\u001b[38;5;241m.\u001b[39merrors\u001b[38;5;241m.\u001b[39mHttpError \u001b[38;5;28;01mas\u001b[39;00m e:\n\u001b[0;32m--> 336\u001b[0m   \u001b[38;5;28;01mraise\u001b[39;00m _translate_cloud_exception(e)\n",
      "\u001b[0;31mEEException\u001b[0m: ValueNode is empty"
     ]
    }
   ],
   "source": [
    "hrw = hours.map(reduceByHour)"
   ]
  },
  {
   "cell_type": "code",
   "execution_count": null,
   "id": "367e9f3a",
   "metadata": {},
   "outputs": [],
   "source": []
  }
 ],
 "metadata": {
  "kernelspec": {
   "display_name": "Python 3 (ipykernel)",
   "language": "python",
   "name": "python3"
  },
  "language_info": {
   "codemirror_mode": {
    "name": "ipython",
    "version": 3
   },
   "file_extension": ".py",
   "mimetype": "text/x-python",
   "name": "python",
   "nbconvert_exporter": "python",
   "pygments_lexer": "ipython3",
   "version": "3.9.10"
  }
 },
 "nbformat": 4,
 "nbformat_minor": 5
}
