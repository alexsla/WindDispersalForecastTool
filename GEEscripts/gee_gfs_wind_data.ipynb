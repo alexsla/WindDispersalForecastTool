{
 "cells": [
  {
   "cell_type": "code",
   "execution_count": 11,
   "id": "2b6b1f7b",
   "metadata": {},
   "outputs": [],
   "source": [
    "import ee\n",
    "import geemap\n",
    "from sqlalchemy import create_engine  \n",
    "from urllib.parse import quote\n",
    "import geopandas as gpd\n",
    "\n",
    "ee.Initialize()"
   ]
  },
  {
   "cell_type": "code",
   "execution_count": 2,
   "id": "4bce6c45",
   "metadata": {},
   "outputs": [],
   "source": [
    "dataset = ee.ImageCollection('NOAA/GFS0P25')"
   ]
  },
  {
   "cell_type": "code",
   "execution_count": 3,
   "id": "103d1e1c",
   "metadata": {},
   "outputs": [
    {
     "data": {
      "text/plain": [
       "<ee.imagecollection.ImageCollection at 0x7f0a49350a30>"
      ]
     },
     "execution_count": 3,
     "metadata": {},
     "output_type": "execute_result"
    }
   ],
   "source": [
    "dataset"
   ]
  },
  {
   "cell_type": "code",
   "execution_count": 4,
   "id": "920d67b2",
   "metadata": {},
   "outputs": [
    {
     "data": {
      "text/plain": [
       "['temperature_2m_above_ground',\n",
       " 'specific_humidity_2m_above_ground',\n",
       " 'relative_humidity_2m_above_ground',\n",
       " 'u_component_of_wind_10m_above_ground',\n",
       " 'v_component_of_wind_10m_above_ground',\n",
       " 'total_precipitation_surface',\n",
       " 'precipitable_water_entire_atmosphere',\n",
       " 'total_cloud_cover_entire_atmosphere',\n",
       " 'downward_shortwave_radiation_flux']"
      ]
     },
     "execution_count": 4,
     "metadata": {},
     "output_type": "execute_result"
    }
   ],
   "source": [
    "# print the name of the bands\n",
    "dataset.first().bandNames().getInfo()"
   ]
  },
  {
   "cell_type": "code",
   "execution_count": 5,
   "id": "19d9b17d",
   "metadata": {},
   "outputs": [],
   "source": [
    "wind = dataset.select(\"u_component_of_wind_10m_above_ground\")"
   ]
  },
  {
   "cell_type": "code",
   "execution_count": null,
   "id": "65e78285",
   "metadata": {},
   "outputs": [],
   "source": [
    "# read data from postgres database\n",
    "db_connection_url = \"postgresql://admin:%@localhost:5432/postgres\" % quote(\"DBPASS\")\n",
    "con = create_engine(db_connection_url)  \n",
    "sql = \"SELECT * FROM public.\"\n",
    "\n",
    "df = gpd.GeoDataFrame.from_postgis(sql, con)  "
   ]
  },
  {
   "cell_type": "code",
   "execution_count": 8,
   "id": "9c5fde84",
   "metadata": {},
   "outputs": [],
   "source": [
    "windVis = {\n",
    "  \"min\": 0.0,\n",
    "  \"max\": 60.0,\n",
    "  \"palette\": ['black', '0dffff', '0524ff', 'ffffff'],\n",
    "}\n",
    "\n",
    "Map = geemap.Map()\n",
    "Map.addLayer(wind.first(), windVis, \"Wind speed\")"
   ]
  },
  {
   "cell_type": "code",
   "execution_count": 9,
   "id": "865ec59b",
   "metadata": {},
   "outputs": [
    {
     "data": {
      "application/vnd.jupyter.widget-view+json": {
       "model_id": "8c8229dd1b56448ca354c366a0dac771",
       "version_major": 2,
       "version_minor": 0
      },
      "text/plain": [
       "Map(center=[20, 0], controls=(WidgetControl(options=['position', 'transparent_bg'], widget=HBox(children=(Togg…"
      ]
     },
     "metadata": {},
     "output_type": "display_data"
    }
   ],
   "source": [
    "Map"
   ]
  },
  {
   "cell_type": "code",
   "execution_count": null,
   "id": "64ce4ee1",
   "metadata": {},
   "outputs": [],
   "source": []
  }
 ],
 "metadata": {
  "kernelspec": {
   "display_name": "Python 3 (ipykernel)",
   "language": "python",
   "name": "python3"
  },
  "language_info": {
   "codemirror_mode": {
    "name": "ipython",
    "version": 3
   },
   "file_extension": ".py",
   "mimetype": "text/x-python",
   "name": "python",
   "nbconvert_exporter": "python",
   "pygments_lexer": "ipython3",
   "version": "3.9.7"
  }
 },
 "nbformat": 4,
 "nbformat_minor": 5
}
